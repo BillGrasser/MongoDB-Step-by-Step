{
 "cells": [
  {
   "cell_type": "code",
   "execution_count": 39,
   "metadata": {},
   "outputs": [
    {
     "data": {},
     "metadata": {},
     "output_type": "display_data"
    },
    {
     "data": {},
     "metadata": {},
     "output_type": "display_data"
    },
    {
     "data": {
      "text/plain": [
       "switched to db courses"
      ]
     },
     "execution_count": 39,
     "metadata": {},
     "output_type": "execute_result"
    }
   ],
   "source": [
    "use courses;"
   ]
  },
  {
   "cell_type": "markdown",
   "metadata": {},
   "source": [
    "**clean up records**"
   ]
  },
  {
   "cell_type": "code",
   "execution_count": 2,
   "metadata": {},
   "outputs": [
    {
     "data": {
      "text/html": [
       "<style>a.disclosure:link{text-decoration:none;}a.disclosure:visited{text-decoration:none;}.disclosure{color:#337AB7;font-size:150%;}.syntax{color:grey;}.string{color:#9A334F;}.number{color:#5C9632;}.boolean{color:#AA9739;}.key{color:#403075;}.keyword{color:#AA9739;}.object.syntax{color:#337AB7;}.array.syntax{color:#337AB7;}></style><div id=\"1a0ccbc5-5e9e-40e8-8cb9-ff47fc298d2d\"></div>"
      ]
     },
     "metadata": {},
     "output_type": "display_data"
    },
    {
     "data": {
      "application/javascript": [
       "require([\"https://rawgit.com/caldwell/renderjson/master/renderjson.js\"], function() {document.getElementById('1a0ccbc5-5e9e-40e8-8cb9-ff47fc298d2d').appendChild(renderjson.set_show_to_level(2)({\"acknowledged\": true, \"deletedCount\": 0}))});"
      ]
     },
     "metadata": {},
     "output_type": "display_data"
    },
    {
     "data": {
      "text/plain": [
       "{ \"acknowledged\" : true, \"deletedCount\" : 0 }"
      ]
     },
     "execution_count": 2,
     "metadata": {},
     "output_type": "execute_result"
    }
   ],
   "source": [
    "db.students.deleteOne({\"student_id\" : \"201823902\"})"
   ]
  },
  {
   "cell_type": "code",
   "execution_count": null,
   "metadata": {},
   "outputs": [],
   "source": []
  },
  {
   "cell_type": "code",
   "execution_count": 3,
   "metadata": {},
   "outputs": [
    {
     "data": {},
     "metadata": {},
     "output_type": "display_data"
    },
    {
     "data": {},
     "metadata": {},
     "output_type": "display_data"
    },
    {
     "data": {
      "text/plain": [
       "WriteResult({ \"nInserted\" : 1 })"
      ]
     },
     "execution_count": 3,
     "metadata": {},
     "output_type": "execute_result"
    }
   ],
   "source": [
    "db.students.insert({\n",
    " \"first_name\" : \"John\",\n",
    " \"last_name\" : \"Doe\",\n",
    " \"date_of_admission\" : ISODate(\"2018-08-21T05:00:00Z\"),\n",
    " \"residence_hall\" : \"Bradley Hall\",\n",
    " \"has_car\" : true,\n",
    " \"student_id\" : \"201823902\",\n",
    " \"current_classes\" : [\n",
    "     \"His343\",\n",
    "     \"Math234\",\n",
    "     \"Phy123\",\n",
    "     \"Art232\"\n",
    " ]\n",
    "})"
   ]
  },
  {
   "cell_type": "markdown",
   "metadata": {},
   "source": [
    "**add an address object**"
   ]
  },
  {
   "cell_type": "code",
   "execution_count": 4,
   "metadata": {},
   "outputs": [
    {
     "data": {},
     "metadata": {},
     "output_type": "display_data"
    },
    {
     "data": {},
     "metadata": {},
     "output_type": "display_data"
    },
    {
     "data": {
      "text/plain": [
       "WriteResult({ \"nMatched\" : 1, \"nUpserted\" : 0, \"nModified\" : 1 })"
      ]
     },
     "execution_count": 4,
     "metadata": {},
     "output_type": "execute_result"
    }
   ],
   "source": [
    "db.students.update({\"student_id\" : \"201823902\"}, \n",
    "            {$set : { \"home_address\" : {\n",
    "                  \"address1\" : \"123 Main Street\",\n",
    "                  \"address2\" : \"second floor\",\n",
    "                  \"city\" : \"Springfield\",\n",
    "                  \"state\" : \"IL\",\n",
    "                  \"zip\" : \"62761\"\n",
    "                 } \n",
    "             }});"
   ]
  },
  {
   "cell_type": "code",
   "execution_count": 5,
   "metadata": {},
   "outputs": [
    {
     "data": {
      "text/html": [
       "<style>a.disclosure:link{text-decoration:none;}a.disclosure:visited{text-decoration:none;}.disclosure{color:#337AB7;font-size:150%;}.syntax{color:grey;}.string{color:#9A334F;}.number{color:#5C9632;}.boolean{color:#AA9739;}.key{color:#403075;}.keyword{color:#AA9739;}.object.syntax{color:#337AB7;}.array.syntax{color:#337AB7;}></style><div id=\"22f26a95-4a24-4bbc-a38d-99cf080cf232\"></div>"
      ]
     },
     "metadata": {},
     "output_type": "display_data"
    },
    {
     "data": {
      "application/javascript": [
       "require([\"https://rawgit.com/caldwell/renderjson/master/renderjson.js\"], function() {document.getElementById('22f26a95-4a24-4bbc-a38d-99cf080cf232').appendChild(renderjson.set_show_to_level(2)([\"Art232\"]))});"
      ]
     },
     "metadata": {},
     "output_type": "display_data"
    },
    {
     "data": {
      "text/plain": [
       "{\r\n",
       "\t\"_id\" : ObjectId(\"59fe20702ced56338fa19095\"),\r\n",
       "\t\"first_name\" : \"John\",\r\n",
       "\t\"last_name\" : \"Doe\",\r\n",
       "\t\"date_of_admission\" : ISODate(\"2018-08-21T05:00:00Z\"),\r\n",
       "\t\"residence_hall\" : \"Bradley Hall\",\r\n",
       "\t\"has_car\" : true,\r\n",
       "\t\"student_id\" : \"201823902\",\r\n",
       "\t\"current_classes\" : [\r\n",
       "\t\t\"His343\",\r\n",
       "\t\t\"Math234\",\r\n",
       "\t\t\"Phy123\",\r\n",
       "\t\t\"Art232\"\r\n",
       "\t],\r\n",
       "\t\"home_address\" : {\r\n",
       "\t\t\"address1\" : \"123 Main Street\",\r\n",
       "\t\t\"address2\" : \"second floor\",\r\n",
       "\t\t\"city\" : \"Springfield\",\r\n",
       "\t\t\"state\" : \"IL\",\r\n",
       "\t\t\"zip\" : \"62761\"\r\n",
       "\t}\r\n",
       "}"
      ]
     },
     "execution_count": 5,
     "metadata": {},
     "output_type": "execute_result"
    }
   ],
   "source": [
    "db.students.find().pretty()"
   ]
  },
  {
   "cell_type": "markdown",
   "metadata": {},
   "source": [
    "**update an element of an object**"
   ]
  },
  {
   "cell_type": "code",
   "execution_count": 6,
   "metadata": {},
   "outputs": [
    {
     "data": {},
     "metadata": {},
     "output_type": "display_data"
    },
    {
     "data": {},
     "metadata": {},
     "output_type": "display_data"
    },
    {
     "data": {
      "text/plain": [
       "WriteResult({ \"nMatched\" : 1, \"nUpserted\" : 0, \"nModified\" : 1 })"
      ]
     },
     "execution_count": 6,
     "metadata": {},
     "output_type": "execute_result"
    }
   ],
   "source": [
    "db.students.update({\"student_id\" : \"201823902\"}, \n",
    "            {$set : { \"home_address.zip\" : \"62757\" }\n",
    "            });"
   ]
  },
  {
   "cell_type": "markdown",
   "metadata": {},
   "source": [
    "**pushing into arrays**"
   ]
  },
  {
   "cell_type": "code",
   "execution_count": 7,
   "metadata": {},
   "outputs": [
    {
     "data": {},
     "metadata": {},
     "output_type": "display_data"
    },
    {
     "data": {},
     "metadata": {},
     "output_type": "display_data"
    },
    {
     "data": {
      "text/plain": [
       "WriteResult({ \"nMatched\" : 1, \"nUpserted\" : 0, \"nModified\" : 1 })"
      ]
     },
     "execution_count": 7,
     "metadata": {},
     "output_type": "execute_result"
    }
   ],
   "source": [
    "db.students.update({\"student_id\" : \"201823902\"},{$push : {\"current_classes\":\"Mus101\"}})"
   ]
  },
  {
   "cell_type": "code",
   "execution_count": 8,
   "metadata": {},
   "outputs": [
    {
     "data": {
      "text/html": [
       "<style>a.disclosure:link{text-decoration:none;}a.disclosure:visited{text-decoration:none;}.disclosure{color:#337AB7;font-size:150%;}.syntax{color:grey;}.string{color:#9A334F;}.number{color:#5C9632;}.boolean{color:#AA9739;}.key{color:#403075;}.keyword{color:#AA9739;}.object.syntax{color:#337AB7;}.array.syntax{color:#337AB7;}></style><div id=\"d7cd2d2f-d03b-49c3-bd2b-deb835d65ec5\"></div>"
      ]
     },
     "metadata": {},
     "output_type": "display_data"
    },
    {
     "data": {
      "application/javascript": [
       "require([\"https://rawgit.com/caldwell/renderjson/master/renderjson.js\"], function() {document.getElementById('d7cd2d2f-d03b-49c3-bd2b-deb835d65ec5').appendChild(renderjson.set_show_to_level(2)([\"Mus101\"]))});"
      ]
     },
     "metadata": {},
     "output_type": "display_data"
    },
    {
     "data": {
      "text/plain": [
       "{\r\n",
       "\t\"_id\" : ObjectId(\"59fe20702ced56338fa19095\"),\r\n",
       "\t\"first_name\" : \"John\",\r\n",
       "\t\"last_name\" : \"Doe\",\r\n",
       "\t\"date_of_admission\" : ISODate(\"2018-08-21T05:00:00Z\"),\r\n",
       "\t\"residence_hall\" : \"Bradley Hall\",\r\n",
       "\t\"has_car\" : true,\r\n",
       "\t\"student_id\" : \"201823902\",\r\n",
       "\t\"current_classes\" : [\r\n",
       "\t\t\"His343\",\r\n",
       "\t\t\"Math234\",\r\n",
       "\t\t\"Phy123\",\r\n",
       "\t\t\"Art232\",\r\n",
       "\t\t\"Mus101\"\r\n",
       "\t],\r\n",
       "\t\"home_address\" : {\r\n",
       "\t\t\"address1\" : \"123 Main Street\",\r\n",
       "\t\t\"address2\" : \"second floor\",\r\n",
       "\t\t\"city\" : \"Springfield\",\r\n",
       "\t\t\"state\" : \"IL\",\r\n",
       "\t\t\"zip\" : \"62757\"\r\n",
       "\t}\r\n",
       "}"
      ]
     },
     "execution_count": 8,
     "metadata": {},
     "output_type": "execute_result"
    }
   ],
   "source": [
    "db.students.find({\"student_id\" : \"201823902\"}).pretty()"
   ]
  },
  {
   "cell_type": "markdown",
   "metadata": {},
   "source": [
    "**push an array of objects**"
   ]
  },
  {
   "cell_type": "code",
   "execution_count": 9,
   "metadata": {},
   "outputs": [
    {
     "data": {},
     "metadata": {},
     "output_type": "display_data"
    },
    {
     "data": {},
     "metadata": {},
     "output_type": "display_data"
    },
    {
     "data": {
      "text/plain": [
       "WriteResult({ \"nMatched\" : 1, \"nUpserted\" : 0, \"nModified\" : 1 })"
      ]
     },
     "execution_count": 9,
     "metadata": {},
     "output_type": "execute_result"
    }
   ],
   "source": [
    "db.students.update({\"student_id\" : \"201823902\"},{$push : {\"grades\" :[{\"His101\":\"A\"},{\"Math101\":\"B\"},{\"Phy101\":\"A\"} ] }})"
   ]
  },
  {
   "cell_type": "code",
   "execution_count": 10,
   "metadata": {},
   "outputs": [
    {
     "data": {
      "text/html": [
       "<style>a.disclosure:link{text-decoration:none;}a.disclosure:visited{text-decoration:none;}.disclosure{color:#337AB7;font-size:150%;}.syntax{color:grey;}.string{color:#9A334F;}.number{color:#5C9632;}.boolean{color:#AA9739;}.key{color:#403075;}.keyword{color:#AA9739;}.object.syntax{color:#337AB7;}.array.syntax{color:#337AB7;}></style><div id=\"1471b30b-c90e-4249-a55f-05d2726f179f\"></div>"
      ]
     },
     "metadata": {},
     "output_type": "display_data"
    },
    {
     "data": {
      "application/javascript": [
       "require([\"https://rawgit.com/caldwell/renderjson/master/renderjson.js\"], function() {document.getElementById('1471b30b-c90e-4249-a55f-05d2726f179f').appendChild(renderjson.set_show_to_level(2)([\"Mus101\"]))});"
      ]
     },
     "metadata": {},
     "output_type": "display_data"
    },
    {
     "data": {
      "text/plain": [
       "{\r\n",
       "\t\"_id\" : ObjectId(\"59fe20702ced56338fa19095\"),\r\n",
       "\t\"first_name\" : \"John\",\r\n",
       "\t\"last_name\" : \"Doe\",\r\n",
       "\t\"date_of_admission\" : ISODate(\"2018-08-21T05:00:00Z\"),\r\n",
       "\t\"residence_hall\" : \"Bradley Hall\",\r\n",
       "\t\"has_car\" : true,\r\n",
       "\t\"student_id\" : \"201823902\",\r\n",
       "\t\"current_classes\" : [\r\n",
       "\t\t\"His343\",\r\n",
       "\t\t\"Math234\",\r\n",
       "\t\t\"Phy123\",\r\n",
       "\t\t\"Art232\",\r\n",
       "\t\t\"Mus101\"\r\n",
       "\t],\r\n",
       "\t\"home_address\" : {\r\n",
       "\t\t\"address1\" : \"123 Main Street\",\r\n",
       "\t\t\"address2\" : \"second floor\",\r\n",
       "\t\t\"city\" : \"Springfield\",\r\n",
       "\t\t\"state\" : \"IL\",\r\n",
       "\t\t\"zip\" : \"62757\"\r\n",
       "\t},\r\n",
       "\t\"grades\" : [\r\n",
       "\t\t[\r\n",
       "\t\t\t{\r\n",
       "\t\t\t\t\"His101\" : \"A\"\r\n",
       "\t\t\t},\r\n",
       "\t\t\t{\r\n",
       "\t\t\t\t\"Math101\" : \"B\"\r\n",
       "\t\t\t},\r\n",
       "\t\t\t{\r\n",
       "\t\t\t\t\"Phy101\" : \"A\"\r\n",
       "\t\t\t}\r\n",
       "\t\t]\r\n",
       "\t]\r\n",
       "}"
      ]
     },
     "execution_count": 10,
     "metadata": {},
     "output_type": "execute_result"
    }
   ],
   "source": [
    "db.students.find({\"student_id\" : \"201823902\"}).pretty()"
   ]
  },
  {
   "cell_type": "markdown",
   "metadata": {},
   "source": [
    "**Use the $each command**"
   ]
  },
  {
   "cell_type": "code",
   "execution_count": 11,
   "metadata": {},
   "outputs": [
    {
     "data": {},
     "metadata": {},
     "output_type": "display_data"
    },
    {
     "data": {},
     "metadata": {},
     "output_type": "display_data"
    },
    {
     "data": {
      "text/plain": [
       "WriteResult({ \"nMatched\" : 1, \"nUpserted\" : 0, \"nModified\" : 1 })"
      ]
     },
     "execution_count": 11,
     "metadata": {},
     "output_type": "execute_result"
    }
   ],
   "source": [
    "db.students.update({\"student_id\" : \"201823902\"},{$push : {\"scores\" : { \"$each\" : [42,43,44,45,44,43,42,41,42,43,44]}}})"
   ]
  },
  {
   "cell_type": "code",
   "execution_count": 12,
   "metadata": {},
   "outputs": [
    {
     "data": {
      "text/html": [
       "<style>a.disclosure:link{text-decoration:none;}a.disclosure:visited{text-decoration:none;}.disclosure{color:#337AB7;font-size:150%;}.syntax{color:grey;}.string{color:#9A334F;}.number{color:#5C9632;}.boolean{color:#AA9739;}.key{color:#403075;}.keyword{color:#AA9739;}.object.syntax{color:#337AB7;}.array.syntax{color:#337AB7;}></style><div id=\"15fd6b74-9b29-4f1a-b911-d0e14efb6b65\"></div>"
      ]
     },
     "metadata": {},
     "output_type": "display_data"
    },
    {
     "data": {
      "application/javascript": [
       "require([\"https://rawgit.com/caldwell/renderjson/master/renderjson.js\"], function() {document.getElementById('15fd6b74-9b29-4f1a-b911-d0e14efb6b65').appendChild(renderjson.set_show_to_level(2)([\"Mus101\", 44]))});"
      ]
     },
     "metadata": {},
     "output_type": "display_data"
    },
    {
     "data": {
      "text/plain": [
       "{\r\n",
       "\t\"_id\" : ObjectId(\"59fe20702ced56338fa19095\"),\r\n",
       "\t\"first_name\" : \"John\",\r\n",
       "\t\"last_name\" : \"Doe\",\r\n",
       "\t\"date_of_admission\" : ISODate(\"2018-08-21T05:00:00Z\"),\r\n",
       "\t\"residence_hall\" : \"Bradley Hall\",\r\n",
       "\t\"has_car\" : true,\r\n",
       "\t\"student_id\" : \"201823902\",\r\n",
       "\t\"current_classes\" : [\r\n",
       "\t\t\"His343\",\r\n",
       "\t\t\"Math234\",\r\n",
       "\t\t\"Phy123\",\r\n",
       "\t\t\"Art232\",\r\n",
       "\t\t\"Mus101\"\r\n",
       "\t],\r\n",
       "\t\"home_address\" : {\r\n",
       "\t\t\"address1\" : \"123 Main Street\",\r\n",
       "\t\t\"address2\" : \"second floor\",\r\n",
       "\t\t\"city\" : \"Springfield\",\r\n",
       "\t\t\"state\" : \"IL\",\r\n",
       "\t\t\"zip\" : \"62757\"\r\n",
       "\t},\r\n",
       "\t\"grades\" : [\r\n",
       "\t\t[\r\n",
       "\t\t\t{\r\n",
       "\t\t\t\t\"His101\" : \"A\"\r\n",
       "\t\t\t},\r\n",
       "\t\t\t{\r\n",
       "\t\t\t\t\"Math101\" : \"B\"\r\n",
       "\t\t\t},\r\n",
       "\t\t\t{\r\n",
       "\t\t\t\t\"Phy101\" : \"A\"\r\n",
       "\t\t\t}\r\n",
       "\t\t]\r\n",
       "\t],\r\n",
       "\t\"scores\" : [\r\n",
       "\t\t42,\r\n",
       "\t\t43,\r\n",
       "\t\t44,\r\n",
       "\t\t45,\r\n",
       "\t\t44,\r\n",
       "\t\t43,\r\n",
       "\t\t42,\r\n",
       "\t\t41,\r\n",
       "\t\t42,\r\n",
       "\t\t43,\r\n",
       "\t\t44\r\n",
       "\t]\r\n",
       "}"
      ]
     },
     "execution_count": 12,
     "metadata": {},
     "output_type": "execute_result"
    }
   ],
   "source": [
    "db.students.find({\"student_id\" : \"201823902\"}).pretty()"
   ]
  },
  {
   "cell_type": "markdown",
   "metadata": {},
   "source": [
    "**now restrict with slice to save only the most recent 10 entries**"
   ]
  },
  {
   "cell_type": "code",
   "execution_count": 13,
   "metadata": {},
   "outputs": [
    {
     "data": {},
     "metadata": {},
     "output_type": "display_data"
    },
    {
     "data": {},
     "metadata": {},
     "output_type": "display_data"
    },
    {
     "data": {
      "text/plain": [
       "WriteResult({ \"nMatched\" : 1, \"nUpserted\" : 0, \"nModified\" : 1 })"
      ]
     },
     "execution_count": 13,
     "metadata": {},
     "output_type": "execute_result"
    }
   ],
   "source": [
    "db.students.update({\"student_id\" : \"201823902\"},{$push : {\"scores\" : { \"$each\" : [92,83,74,65], \"$slice\" : -10}}})"
   ]
  },
  {
   "cell_type": "code",
   "execution_count": 14,
   "metadata": {},
   "outputs": [
    {
     "data": {
      "text/html": [
       "<style>a.disclosure:link{text-decoration:none;}a.disclosure:visited{text-decoration:none;}.disclosure{color:#337AB7;font-size:150%;}.syntax{color:grey;}.string{color:#9A334F;}.number{color:#5C9632;}.boolean{color:#AA9739;}.key{color:#403075;}.keyword{color:#AA9739;}.object.syntax{color:#337AB7;}.array.syntax{color:#337AB7;}></style><div id=\"ed9ad161-7c52-412a-8cde-4d63deee5e1c\"></div>"
      ]
     },
     "metadata": {},
     "output_type": "display_data"
    },
    {
     "data": {
      "application/javascript": [
       "require([\"https://rawgit.com/caldwell/renderjson/master/renderjson.js\"], function() {document.getElementById('ed9ad161-7c52-412a-8cde-4d63deee5e1c').appendChild(renderjson.set_show_to_level(2)([\"Mus101\", 65]))});"
      ]
     },
     "metadata": {},
     "output_type": "display_data"
    },
    {
     "data": {
      "text/plain": [
       "{\r\n",
       "\t\"_id\" : ObjectId(\"59fe20702ced56338fa19095\"),\r\n",
       "\t\"first_name\" : \"John\",\r\n",
       "\t\"last_name\" : \"Doe\",\r\n",
       "\t\"date_of_admission\" : ISODate(\"2018-08-21T05:00:00Z\"),\r\n",
       "\t\"residence_hall\" : \"Bradley Hall\",\r\n",
       "\t\"has_car\" : true,\r\n",
       "\t\"student_id\" : \"201823902\",\r\n",
       "\t\"current_classes\" : [\r\n",
       "\t\t\"His343\",\r\n",
       "\t\t\"Math234\",\r\n",
       "\t\t\"Phy123\",\r\n",
       "\t\t\"Art232\",\r\n",
       "\t\t\"Mus101\"\r\n",
       "\t],\r\n",
       "\t\"home_address\" : {\r\n",
       "\t\t\"address1\" : \"123 Main Street\",\r\n",
       "\t\t\"address2\" : \"second floor\",\r\n",
       "\t\t\"city\" : \"Springfield\",\r\n",
       "\t\t\"state\" : \"IL\",\r\n",
       "\t\t\"zip\" : \"62757\"\r\n",
       "\t},\r\n",
       "\t\"grades\" : [\r\n",
       "\t\t[\r\n",
       "\t\t\t{\r\n",
       "\t\t\t\t\"His101\" : \"A\"\r\n",
       "\t\t\t},\r\n",
       "\t\t\t{\r\n",
       "\t\t\t\t\"Math101\" : \"B\"\r\n",
       "\t\t\t},\r\n",
       "\t\t\t{\r\n",
       "\t\t\t\t\"Phy101\" : \"A\"\r\n",
       "\t\t\t}\r\n",
       "\t\t]\r\n",
       "\t],\r\n",
       "\t\"scores\" : [\r\n",
       "\t\t43,\r\n",
       "\t\t42,\r\n",
       "\t\t41,\r\n",
       "\t\t42,\r\n",
       "\t\t43,\r\n",
       "\t\t44,\r\n",
       "\t\t92,\r\n",
       "\t\t83,\r\n",
       "\t\t74,\r\n",
       "\t\t65\r\n",
       "\t]\r\n",
       "}"
      ]
     },
     "execution_count": 14,
     "metadata": {},
     "output_type": "execute_result"
    }
   ],
   "source": [
    "db.students.find({\"student_id\" : \"201823902\"}).pretty()"
   ]
  },
  {
   "cell_type": "markdown",
   "metadata": {},
   "source": [
    "**Add some more scores, but only keep the best scores**"
   ]
  },
  {
   "cell_type": "code",
   "execution_count": 15,
   "metadata": {},
   "outputs": [
    {
     "data": {},
     "metadata": {},
     "output_type": "display_data"
    },
    {
     "data": {},
     "metadata": {},
     "output_type": "display_data"
    },
    {
     "data": {
      "text/plain": [
       "WriteResult({ \"nMatched\" : 1, \"nUpserted\" : 0, \"nModified\" : 1 })"
      ]
     },
     "execution_count": 15,
     "metadata": {},
     "output_type": "execute_result"
    }
   ],
   "source": [
    "db.students.update({\"student_id\" : \"201823902\"},{$push : {\"scores\" : { \"$each\" : [81,73,54,75], \n",
    "    \"$slice\" : -10, $sort : {\"scores\" : -1}}}})"
   ]
  },
  {
   "cell_type": "code",
   "execution_count": 16,
   "metadata": {},
   "outputs": [
    {
     "data": {
      "text/html": [
       "<style>a.disclosure:link{text-decoration:none;}a.disclosure:visited{text-decoration:none;}.disclosure{color:#337AB7;font-size:150%;}.syntax{color:grey;}.string{color:#9A334F;}.number{color:#5C9632;}.boolean{color:#AA9739;}.key{color:#403075;}.keyword{color:#AA9739;}.object.syntax{color:#337AB7;}.array.syntax{color:#337AB7;}></style><div id=\"79bb01fa-e21b-4bc5-aa7e-12a0308e3686\"></div>"
      ]
     },
     "metadata": {},
     "output_type": "display_data"
    },
    {
     "data": {
      "application/javascript": [
       "require([\"https://rawgit.com/caldwell/renderjson/master/renderjson.js\"], function() {document.getElementById('79bb01fa-e21b-4bc5-aa7e-12a0308e3686').appendChild(renderjson.set_show_to_level(2)([\"Mus101\", 75]))});"
      ]
     },
     "metadata": {},
     "output_type": "display_data"
    },
    {
     "data": {
      "text/plain": [
       "{\r\n",
       "\t\"_id\" : ObjectId(\"59fe20702ced56338fa19095\"),\r\n",
       "\t\"first_name\" : \"John\",\r\n",
       "\t\"last_name\" : \"Doe\",\r\n",
       "\t\"date_of_admission\" : ISODate(\"2018-08-21T05:00:00Z\"),\r\n",
       "\t\"residence_hall\" : \"Bradley Hall\",\r\n",
       "\t\"has_car\" : true,\r\n",
       "\t\"student_id\" : \"201823902\",\r\n",
       "\t\"current_classes\" : [\r\n",
       "\t\t\"His343\",\r\n",
       "\t\t\"Math234\",\r\n",
       "\t\t\"Phy123\",\r\n",
       "\t\t\"Art232\",\r\n",
       "\t\t\"Mus101\"\r\n",
       "\t],\r\n",
       "\t\"home_address\" : {\r\n",
       "\t\t\"address1\" : \"123 Main Street\",\r\n",
       "\t\t\"address2\" : \"second floor\",\r\n",
       "\t\t\"city\" : \"Springfield\",\r\n",
       "\t\t\"state\" : \"IL\",\r\n",
       "\t\t\"zip\" : \"62757\"\r\n",
       "\t},\r\n",
       "\t\"grades\" : [\r\n",
       "\t\t[\r\n",
       "\t\t\t{\r\n",
       "\t\t\t\t\"His101\" : \"A\"\r\n",
       "\t\t\t},\r\n",
       "\t\t\t{\r\n",
       "\t\t\t\t\"Math101\" : \"B\"\r\n",
       "\t\t\t},\r\n",
       "\t\t\t{\r\n",
       "\t\t\t\t\"Phy101\" : \"A\"\r\n",
       "\t\t\t}\r\n",
       "\t\t]\r\n",
       "\t],\r\n",
       "\t\"scores\" : [\r\n",
       "\t\t43,\r\n",
       "\t\t44,\r\n",
       "\t\t92,\r\n",
       "\t\t83,\r\n",
       "\t\t74,\r\n",
       "\t\t65,\r\n",
       "\t\t81,\r\n",
       "\t\t73,\r\n",
       "\t\t54,\r\n",
       "\t\t75\r\n",
       "\t]\r\n",
       "}"
      ]
     },
     "execution_count": 16,
     "metadata": {},
     "output_type": "execute_result"
    }
   ],
   "source": [
    "db.students.find({\"student_id\" : \"201823902\"}).pretty()"
   ]
  },
  {
   "cell_type": "markdown",
   "metadata": {},
   "source": [
    "**Add some school books to work with**"
   ]
  },
  {
   "cell_type": "code",
   "execution_count": 17,
   "metadata": {},
   "outputs": [
    {
     "data": {},
     "metadata": {},
     "output_type": "display_data"
    },
    {
     "data": {},
     "metadata": {},
     "output_type": "display_data"
    },
    {
     "data": {
      "text/plain": [
       "WriteResult({ \"nMatched\" : 1, \"nUpserted\" : 0, \"nModified\" : 1 })"
      ]
     },
     "execution_count": 17,
     "metadata": {},
     "output_type": "execute_result"
    }
   ],
   "source": [
    "db.students.update({\"student_id\" : \"201823902\"},{$push : {\"books\" : { \"$each\" : [\"His343\",\"Math234\",\"Phy123\",\"Art232\",\"Mus101\"]}}})"
   ]
  },
  {
   "cell_type": "code",
   "execution_count": 25,
   "metadata": {},
   "outputs": [
    {
     "data": {
      "text/html": [
       "<style>a.disclosure:link{text-decoration:none;}a.disclosure:visited{text-decoration:none;}.disclosure{color:#337AB7;font-size:150%;}.syntax{color:grey;}.string{color:#9A334F;}.number{color:#5C9632;}.boolean{color:#AA9739;}.key{color:#403075;}.keyword{color:#AA9739;}.object.syntax{color:#337AB7;}.array.syntax{color:#337AB7;}></style><div id=\"2e33ae98-f090-4985-ab9a-51f2b1dc9cba\"></div>"
      ]
     },
     "metadata": {},
     "output_type": "display_data"
    },
    {
     "data": {
      "application/javascript": [
       "require([\"https://rawgit.com/caldwell/renderjson/master/renderjson.js\"], function() {document.getElementById('2e33ae98-f090-4985-ab9a-51f2b1dc9cba').appendChild(renderjson.set_show_to_level(2)([\"Mus101\", 75, \"Mus101\"]))});"
      ]
     },
     "metadata": {},
     "output_type": "display_data"
    },
    {
     "data": {
      "text/plain": [
       "{\r\n",
       "\t\"_id\" : ObjectId(\"59fe20702ced56338fa19095\"),\r\n",
       "\t\"first_name\" : \"John\",\r\n",
       "\t\"last_name\" : \"Doe\",\r\n",
       "\t\"date_of_admission\" : ISODate(\"2018-08-21T05:00:00Z\"),\r\n",
       "\t\"residence_hall\" : \"Bradley Hall\",\r\n",
       "\t\"has_car\" : true,\r\n",
       "\t\"student_id\" : \"201823902\",\r\n",
       "\t\"current_classes\" : [\r\n",
       "\t\t\"His343\",\r\n",
       "\t\t\"Math234\",\r\n",
       "\t\t\"Phy123\",\r\n",
       "\t\t\"Art232\",\r\n",
       "\t\t\"Mus101\"\r\n",
       "\t],\r\n",
       "\t\"home_address\" : {\r\n",
       "\t\t\"address1\" : \"123 Main Street\",\r\n",
       "\t\t\"address2\" : \"second floor\",\r\n",
       "\t\t\"city\" : \"Springfield\",\r\n",
       "\t\t\"state\" : \"IL\",\r\n",
       "\t\t\"zip\" : \"62757\"\r\n",
       "\t},\r\n",
       "\t\"grades\" : [\r\n",
       "\t\t[\r\n",
       "\t\t\t{\r\n",
       "\t\t\t\t\"His101\" : \"A\"\r\n",
       "\t\t\t},\r\n",
       "\t\t\t{\r\n",
       "\t\t\t\t\"Math101\" : \"B\"\r\n",
       "\t\t\t},\r\n",
       "\t\t\t{\r\n",
       "\t\t\t\t\"Phy101\" : \"A\"\r\n",
       "\t\t\t}\r\n",
       "\t\t]\r\n",
       "\t],\r\n",
       "\t\"scores\" : [\r\n",
       "\t\t43,\r\n",
       "\t\t44,\r\n",
       "\t\t92,\r\n",
       "\t\t83,\r\n",
       "\t\t74,\r\n",
       "\t\t65,\r\n",
       "\t\t81,\r\n",
       "\t\t73,\r\n",
       "\t\t54,\r\n",
       "\t\t75\r\n",
       "\t],\r\n",
       "\t\"books\" : [\r\n",
       "\t\t\"His343\",\r\n",
       "\t\t\"Math234\",\r\n",
       "\t\t\"Phy123\",\r\n",
       "\t\t\"Art232\",\r\n",
       "\t\t\"Mus101\"\r\n",
       "\t]\r\n",
       "}"
      ]
     },
     "execution_count": 25,
     "metadata": {},
     "output_type": "execute_result"
    }
   ],
   "source": [
    "db.students.find({\"student_id\" : \"201823902\"}).pretty()"
   ]
  },
  {
   "cell_type": "markdown",
   "metadata": {},
   "source": [
    "**pop a book off the end of the list**"
   ]
  },
  {
   "cell_type": "code",
   "execution_count": 26,
   "metadata": {},
   "outputs": [
    {
     "data": {},
     "metadata": {},
     "output_type": "display_data"
    },
    {
     "data": {},
     "metadata": {},
     "output_type": "display_data"
    },
    {
     "data": {
      "text/plain": [
       "WriteResult({ \"nMatched\" : 1, \"nUpserted\" : 0, \"nModified\" : 1 })"
      ]
     },
     "execution_count": 26,
     "metadata": {},
     "output_type": "execute_result"
    }
   ],
   "source": [
    "db.students.update({\"student_id\" : \"201823902\"},{$pop : {\"books\":1}})"
   ]
  },
  {
   "cell_type": "code",
   "execution_count": 29,
   "metadata": {},
   "outputs": [
    {
     "data": {
      "text/html": [
       "<style>a.disclosure:link{text-decoration:none;}a.disclosure:visited{text-decoration:none;}.disclosure{color:#337AB7;font-size:150%;}.syntax{color:grey;}.string{color:#9A334F;}.number{color:#5C9632;}.boolean{color:#AA9739;}.key{color:#403075;}.keyword{color:#AA9739;}.object.syntax{color:#337AB7;}.array.syntax{color:#337AB7;}></style><div id=\"f21449eb-2c4a-49fd-b5e6-0feea31f1c8f\"></div>"
      ]
     },
     "metadata": {},
     "output_type": "display_data"
    },
    {
     "data": {
      "application/javascript": [
       "require([\"https://rawgit.com/caldwell/renderjson/master/renderjson.js\"], function() {document.getElementById('f21449eb-2c4a-49fd-b5e6-0feea31f1c8f').appendChild(renderjson.set_show_to_level(2)([\"Mus101\", 75, \"Art232\"]))});"
      ]
     },
     "metadata": {},
     "output_type": "display_data"
    },
    {
     "data": {
      "text/plain": [
       "{\r\n",
       "\t\"_id\" : ObjectId(\"59fe20702ced56338fa19095\"),\r\n",
       "\t\"first_name\" : \"John\",\r\n",
       "\t\"last_name\" : \"Doe\",\r\n",
       "\t\"date_of_admission\" : ISODate(\"2018-08-21T05:00:00Z\"),\r\n",
       "\t\"residence_hall\" : \"Bradley Hall\",\r\n",
       "\t\"has_car\" : true,\r\n",
       "\t\"student_id\" : \"201823902\",\r\n",
       "\t\"current_classes\" : [\r\n",
       "\t\t\"His343\",\r\n",
       "\t\t\"Math234\",\r\n",
       "\t\t\"Phy123\",\r\n",
       "\t\t\"Art232\",\r\n",
       "\t\t\"Mus101\"\r\n",
       "\t],\r\n",
       "\t\"home_address\" : {\r\n",
       "\t\t\"address1\" : \"123 Main Street\",\r\n",
       "\t\t\"address2\" : \"second floor\",\r\n",
       "\t\t\"city\" : \"Springfield\",\r\n",
       "\t\t\"state\" : \"IL\",\r\n",
       "\t\t\"zip\" : \"62757\"\r\n",
       "\t},\r\n",
       "\t\"grades\" : [\r\n",
       "\t\t[\r\n",
       "\t\t\t{\r\n",
       "\t\t\t\t\"His101\" : \"A\"\r\n",
       "\t\t\t},\r\n",
       "\t\t\t{\r\n",
       "\t\t\t\t\"Math101\" : \"B\"\r\n",
       "\t\t\t},\r\n",
       "\t\t\t{\r\n",
       "\t\t\t\t\"Phy101\" : \"A\"\r\n",
       "\t\t\t}\r\n",
       "\t\t]\r\n",
       "\t],\r\n",
       "\t\"scores\" : [\r\n",
       "\t\t43,\r\n",
       "\t\t44,\r\n",
       "\t\t92,\r\n",
       "\t\t83,\r\n",
       "\t\t74,\r\n",
       "\t\t65,\r\n",
       "\t\t81,\r\n",
       "\t\t73,\r\n",
       "\t\t54,\r\n",
       "\t\t75\r\n",
       "\t],\r\n",
       "\t\"books\" : [\r\n",
       "\t\t\"Math234\",\r\n",
       "\t\t\"Phy123\",\r\n",
       "\t\t\"Art232\"\r\n",
       "\t]\r\n",
       "}"
      ]
     },
     "execution_count": 29,
     "metadata": {},
     "output_type": "execute_result"
    }
   ],
   "source": [
    "db.students.find({\"student_id\" : \"201823902\"}).pretty()"
   ]
  },
  {
   "cell_type": "markdown",
   "metadata": {},
   "source": [
    "**take a book off the beginning of the list**"
   ]
  },
  {
   "cell_type": "code",
   "execution_count": 28,
   "metadata": {},
   "outputs": [
    {
     "data": {},
     "metadata": {},
     "output_type": "display_data"
    },
    {
     "data": {},
     "metadata": {},
     "output_type": "display_data"
    },
    {
     "data": {
      "text/plain": [
       "WriteResult({ \"nMatched\" : 1, \"nUpserted\" : 0, \"nModified\" : 1 })"
      ]
     },
     "execution_count": 28,
     "metadata": {},
     "output_type": "execute_result"
    }
   ],
   "source": [
    "db.students.update({\"student_id\" : \"201823902\"},{$pop : {\"books\":-1}})"
   ]
  },
  {
   "cell_type": "code",
   "execution_count": 30,
   "metadata": {},
   "outputs": [
    {
     "data": {
      "text/html": [
       "<style>a.disclosure:link{text-decoration:none;}a.disclosure:visited{text-decoration:none;}.disclosure{color:#337AB7;font-size:150%;}.syntax{color:grey;}.string{color:#9A334F;}.number{color:#5C9632;}.boolean{color:#AA9739;}.key{color:#403075;}.keyword{color:#AA9739;}.object.syntax{color:#337AB7;}.array.syntax{color:#337AB7;}></style><div id=\"9515773d-2c10-4f4f-9496-8c9dd5e68181\"></div>"
      ]
     },
     "metadata": {},
     "output_type": "display_data"
    },
    {
     "data": {
      "application/javascript": [
       "require([\"https://rawgit.com/caldwell/renderjson/master/renderjson.js\"], function() {document.getElementById('9515773d-2c10-4f4f-9496-8c9dd5e68181').appendChild(renderjson.set_show_to_level(2)([\"Mus101\", 75, \"Art232\"]))});"
      ]
     },
     "metadata": {},
     "output_type": "display_data"
    },
    {
     "data": {
      "text/plain": [
       "{\r\n",
       "\t\"_id\" : ObjectId(\"59fe20702ced56338fa19095\"),\r\n",
       "\t\"first_name\" : \"John\",\r\n",
       "\t\"last_name\" : \"Doe\",\r\n",
       "\t\"date_of_admission\" : ISODate(\"2018-08-21T05:00:00Z\"),\r\n",
       "\t\"residence_hall\" : \"Bradley Hall\",\r\n",
       "\t\"has_car\" : true,\r\n",
       "\t\"student_id\" : \"201823902\",\r\n",
       "\t\"current_classes\" : [\r\n",
       "\t\t\"His343\",\r\n",
       "\t\t\"Math234\",\r\n",
       "\t\t\"Phy123\",\r\n",
       "\t\t\"Art232\",\r\n",
       "\t\t\"Mus101\"\r\n",
       "\t],\r\n",
       "\t\"home_address\" : {\r\n",
       "\t\t\"address1\" : \"123 Main Street\",\r\n",
       "\t\t\"address2\" : \"second floor\",\r\n",
       "\t\t\"city\" : \"Springfield\",\r\n",
       "\t\t\"state\" : \"IL\",\r\n",
       "\t\t\"zip\" : \"62757\"\r\n",
       "\t},\r\n",
       "\t\"grades\" : [\r\n",
       "\t\t[\r\n",
       "\t\t\t{\r\n",
       "\t\t\t\t\"His101\" : \"A\"\r\n",
       "\t\t\t},\r\n",
       "\t\t\t{\r\n",
       "\t\t\t\t\"Math101\" : \"B\"\r\n",
       "\t\t\t},\r\n",
       "\t\t\t{\r\n",
       "\t\t\t\t\"Phy101\" : \"A\"\r\n",
       "\t\t\t}\r\n",
       "\t\t]\r\n",
       "\t],\r\n",
       "\t\"scores\" : [\r\n",
       "\t\t43,\r\n",
       "\t\t44,\r\n",
       "\t\t92,\r\n",
       "\t\t83,\r\n",
       "\t\t74,\r\n",
       "\t\t65,\r\n",
       "\t\t81,\r\n",
       "\t\t73,\r\n",
       "\t\t54,\r\n",
       "\t\t75\r\n",
       "\t],\r\n",
       "\t\"books\" : [\r\n",
       "\t\t\"Math234\",\r\n",
       "\t\t\"Phy123\",\r\n",
       "\t\t\"Art232\"\r\n",
       "\t]\r\n",
       "}"
      ]
     },
     "execution_count": 30,
     "metadata": {},
     "output_type": "execute_result"
    }
   ],
   "source": [
    "db.students.find({\"student_id\" : \"201823902\"}).pretty()"
   ]
  },
  {
   "cell_type": "markdown",
   "metadata": {},
   "source": [
    "**remove a specific element from an array**"
   ]
  },
  {
   "cell_type": "code",
   "execution_count": 31,
   "metadata": {},
   "outputs": [
    {
     "data": {},
     "metadata": {},
     "output_type": "display_data"
    },
    {
     "data": {},
     "metadata": {},
     "output_type": "display_data"
    },
    {
     "data": {
      "text/plain": [
       "WriteResult({ \"nMatched\" : 1, \"nUpserted\" : 0, \"nModified\" : 1 })"
      ]
     },
     "execution_count": 31,
     "metadata": {},
     "output_type": "execute_result"
    }
   ],
   "source": [
    "db.students.update({\"student_id\" : \"201823902\"},{$pull : {\"books\":\"Phy123\"}})"
   ]
  },
  {
   "cell_type": "code",
   "execution_count": 46,
   "metadata": {},
   "outputs": [
    {
     "data": {
      "text/html": [
       "<style>a.disclosure:link{text-decoration:none;}a.disclosure:visited{text-decoration:none;}.disclosure{color:#337AB7;font-size:150%;}.syntax{color:grey;}.string{color:#9A334F;}.number{color:#5C9632;}.boolean{color:#AA9739;}.key{color:#403075;}.keyword{color:#AA9739;}.object.syntax{color:#337AB7;}.array.syntax{color:#337AB7;}></style><div id=\"3ae823df-35fb-4dbf-86e0-a037952a115d\"></div>"
      ]
     },
     "metadata": {},
     "output_type": "display_data"
    },
    {
     "data": {
      "application/javascript": [
       "require([\"https://rawgit.com/caldwell/renderjson/master/renderjson.js\"], function() {document.getElementById('3ae823df-35fb-4dbf-86e0-a037952a115d').appendChild(renderjson.set_show_to_level(2)([\"Mus101\", 75, \"Mus101\"]))});"
      ]
     },
     "metadata": {},
     "output_type": "display_data"
    },
    {
     "data": {
      "text/plain": [
       "{\r\n",
       "\t\"_id\" : ObjectId(\"59fe20702ced56338fa19095\"),\r\n",
       "\t\"first_name\" : \"John\",\r\n",
       "\t\"last_name\" : \"Doe\",\r\n",
       "\t\"date_of_admission\" : ISODate(\"2018-08-21T05:00:00Z\"),\r\n",
       "\t\"residence_hall\" : \"Bradley Hall\",\r\n",
       "\t\"has_car\" : true,\r\n",
       "\t\"student_id\" : \"201823902\",\r\n",
       "\t\"current_classes\" : [\r\n",
       "\t\t\"His343\",\r\n",
       "\t\t\"Math234\",\r\n",
       "\t\t\"Phy123\",\r\n",
       "\t\t\"Art232\",\r\n",
       "\t\t\"Mus101\"\r\n",
       "\t],\r\n",
       "\t\"home_address\" : {\r\n",
       "\t\t\"address1\" : \"123 Main Street\",\r\n",
       "\t\t\"address2\" : \"second floor\",\r\n",
       "\t\t\"city\" : \"Springfield\",\r\n",
       "\t\t\"state\" : \"IL\",\r\n",
       "\t\t\"zip\" : \"62757\"\r\n",
       "\t},\r\n",
       "\t\"grades\" : [\r\n",
       "\t\t[\r\n",
       "\t\t\t{\r\n",
       "\t\t\t\t\"His101\" : \"A\"\r\n",
       "\t\t\t},\r\n",
       "\t\t\t{\r\n",
       "\t\t\t\t\"Math101\" : \"B\"\r\n",
       "\t\t\t},\r\n",
       "\t\t\t{\r\n",
       "\t\t\t\t\"Phy101\" : \"A\"\r\n",
       "\t\t\t}\r\n",
       "\t\t]\r\n",
       "\t],\r\n",
       "\t\"scores\" : [\r\n",
       "\t\t43,\r\n",
       "\t\t44,\r\n",
       "\t\t92,\r\n",
       "\t\t83,\r\n",
       "\t\t74,\r\n",
       "\t\t65,\r\n",
       "\t\t81,\r\n",
       "\t\t73,\r\n",
       "\t\t54,\r\n",
       "\t\t75\r\n",
       "\t],\r\n",
       "\t\"books\" : [\r\n",
       "\t\t\"His343\",\r\n",
       "\t\t\"Math234\",\r\n",
       "\t\t\"Phi123\",\r\n",
       "\t\t\"Art232\",\r\n",
       "\t\t\"Mus101\"\r\n",
       "\t]\r\n",
       "}"
      ]
     },
     "execution_count": 46,
     "metadata": {},
     "output_type": "execute_result"
    }
   ],
   "source": [
    "db.students.find({\"student_id\" : \"201823902\"}).pretty()"
   ]
  },
  {
   "cell_type": "markdown",
   "metadata": {},
   "source": [
    "**set the array back so we can work with it again**"
   ]
  },
  {
   "cell_type": "code",
   "execution_count": 33,
   "metadata": {},
   "outputs": [
    {
     "data": {},
     "metadata": {},
     "output_type": "display_data"
    },
    {
     "data": {},
     "metadata": {},
     "output_type": "display_data"
    },
    {
     "data": {
      "text/plain": [
       "WriteResult({ \"nMatched\" : 1, \"nUpserted\" : 0, \"nModified\" : 1 })"
      ]
     },
     "execution_count": 33,
     "metadata": {},
     "output_type": "execute_result"
    }
   ],
   "source": [
    "db.students.update({\"student_id\" : \"201823902\"},{$set : {\"books\" :  [\"His343\",\"Math234\",\"Phy123\",\"Art232\",\"Mus101\"]}})"
   ]
  },
  {
   "cell_type": "markdown",
   "metadata": {},
   "source": [
    "**refer to an array element if you already know the position**"
   ]
  },
  {
   "cell_type": "code",
   "execution_count": 45,
   "metadata": {},
   "outputs": [
    {
     "data": {},
     "metadata": {},
     "output_type": "display_data"
    },
    {
     "data": {},
     "metadata": {},
     "output_type": "display_data"
    },
    {
     "data": {
      "text/plain": [
       "WriteResult({ \"nMatched\" : 1, \"nUpserted\" : 0, \"nModified\" : 1 })"
      ]
     },
     "execution_count": 45,
     "metadata": {},
     "output_type": "execute_result"
    }
   ],
   "source": [
    "db.students.update({\"student_id\" : \"201823902\"},{$set : {\"books.2\" : \"Phi123\"}})"
   ]
  },
  {
   "cell_type": "code",
   "execution_count": 47,
   "metadata": {},
   "outputs": [
    {
     "data": {
      "text/html": [
       "<style>a.disclosure:link{text-decoration:none;}a.disclosure:visited{text-decoration:none;}.disclosure{color:#337AB7;font-size:150%;}.syntax{color:grey;}.string{color:#9A334F;}.number{color:#5C9632;}.boolean{color:#AA9739;}.key{color:#403075;}.keyword{color:#AA9739;}.object.syntax{color:#337AB7;}.array.syntax{color:#337AB7;}></style><div id=\"095949cd-bf20-4a45-91e4-345cc4961f21\"></div>"
      ]
     },
     "metadata": {},
     "output_type": "display_data"
    },
    {
     "data": {
      "application/javascript": [
       "require([\"https://rawgit.com/caldwell/renderjson/master/renderjson.js\"], function() {document.getElementById('095949cd-bf20-4a45-91e4-345cc4961f21').appendChild(renderjson.set_show_to_level(2)([\"Mus101\", 75, \"Mus101\"]))});"
      ]
     },
     "metadata": {},
     "output_type": "display_data"
    },
    {
     "data": {
      "text/plain": [
       "{\r\n",
       "\t\"_id\" : ObjectId(\"59fe20702ced56338fa19095\"),\r\n",
       "\t\"first_name\" : \"John\",\r\n",
       "\t\"last_name\" : \"Doe\",\r\n",
       "\t\"date_of_admission\" : ISODate(\"2018-08-21T05:00:00Z\"),\r\n",
       "\t\"residence_hall\" : \"Bradley Hall\",\r\n",
       "\t\"has_car\" : true,\r\n",
       "\t\"student_id\" : \"201823902\",\r\n",
       "\t\"current_classes\" : [\r\n",
       "\t\t\"His343\",\r\n",
       "\t\t\"Math234\",\r\n",
       "\t\t\"Phy123\",\r\n",
       "\t\t\"Art232\",\r\n",
       "\t\t\"Mus101\"\r\n",
       "\t],\r\n",
       "\t\"home_address\" : {\r\n",
       "\t\t\"address1\" : \"123 Main Street\",\r\n",
       "\t\t\"address2\" : \"second floor\",\r\n",
       "\t\t\"city\" : \"Springfield\",\r\n",
       "\t\t\"state\" : \"IL\",\r\n",
       "\t\t\"zip\" : \"62757\"\r\n",
       "\t},\r\n",
       "\t\"grades\" : [\r\n",
       "\t\t[\r\n",
       "\t\t\t{\r\n",
       "\t\t\t\t\"His101\" : \"A\"\r\n",
       "\t\t\t},\r\n",
       "\t\t\t{\r\n",
       "\t\t\t\t\"Math101\" : \"B\"\r\n",
       "\t\t\t},\r\n",
       "\t\t\t{\r\n",
       "\t\t\t\t\"Phy101\" : \"A\"\r\n",
       "\t\t\t}\r\n",
       "\t\t]\r\n",
       "\t],\r\n",
       "\t\"scores\" : [\r\n",
       "\t\t43,\r\n",
       "\t\t44,\r\n",
       "\t\t92,\r\n",
       "\t\t83,\r\n",
       "\t\t74,\r\n",
       "\t\t65,\r\n",
       "\t\t81,\r\n",
       "\t\t73,\r\n",
       "\t\t54,\r\n",
       "\t\t75\r\n",
       "\t],\r\n",
       "\t\"books\" : [\r\n",
       "\t\t\"His343\",\r\n",
       "\t\t\"Math234\",\r\n",
       "\t\t\"Phi123\",\r\n",
       "\t\t\"Art232\",\r\n",
       "\t\t\"Mus101\"\r\n",
       "\t]\r\n",
       "}"
      ]
     },
     "execution_count": 47,
     "metadata": {},
     "output_type": "execute_result"
    }
   ],
   "source": [
    "db.students.find({\"student_id\" : \"201823902\"}).pretty()"
   ]
  },
  {
   "cell_type": "code",
   "execution_count": null,
   "metadata": {},
   "outputs": [],
   "source": []
  },
  {
   "cell_type": "code",
   "execution_count": null,
   "metadata": {},
   "outputs": [],
   "source": []
  }
 ],
 "metadata": {
  "kernelspec": {
   "display_name": "IMongo",
   "language": "",
   "name": "imongo"
  },
  "language_info": {
   "codemirror_mode": "shell",
   "file_extension": ".js",
   "mimetype": "text/x-mongodb",
   "name": "javascript"
  }
 },
 "nbformat": 4,
 "nbformat_minor": 2
}
