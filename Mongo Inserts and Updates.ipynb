{
 "cells": [
  {
   "cell_type": "code",
   "execution_count": 1,
   "metadata": {},
   "outputs": [
    {
     "data": {},
     "metadata": {},
     "output_type": "display_data"
    },
    {
     "data": {},
     "metadata": {},
     "output_type": "display_data"
    },
    {
     "data": {
      "text/plain": [
       "switched to db courses"
      ]
     },
     "execution_count": 1,
     "metadata": {},
     "output_type": "execute_result"
    }
   ],
   "source": [
    "use courses;"
   ]
  },
  {
   "cell_type": "markdown",
   "metadata": {},
   "source": [
    "**clean up records**"
   ]
  },
  {
   "cell_type": "code",
   "execution_count": 2,
   "metadata": {},
   "outputs": [
    {
     "data": {
      "text/html": [
       "<style>a.disclosure:link{text-decoration:none;}a.disclosure:visited{text-decoration:none;}.disclosure{color:#337AB7;font-size:150%;}.syntax{color:grey;}.string{color:#9A334F;}.number{color:#5C9632;}.boolean{color:#AA9739;}.key{color:#403075;}.keyword{color:#AA9739;}.object.syntax{color:#337AB7;}.array.syntax{color:#337AB7;}></style><div id=\"615e0717-8696-4c2c-b322-3c29731677c6\"></div>"
      ]
     },
     "metadata": {},
     "output_type": "display_data"
    },
    {
     "data": {
      "application/javascript": [
       "require([\"https://rawgit.com/caldwell/renderjson/master/renderjson.js\"], function() {document.getElementById('615e0717-8696-4c2c-b322-3c29731677c6').appendChild(renderjson.set_show_to_level(2)({\"acknowledged\": true, \"deletedCount\": 1}))});"
      ]
     },
     "metadata": {},
     "output_type": "display_data"
    },
    {
     "data": {
      "text/plain": [
       "{ \"acknowledged\" : true, \"deletedCount\" : 1 }"
      ]
     },
     "execution_count": 2,
     "metadata": {},
     "output_type": "execute_result"
    }
   ],
   "source": [
    "db.students.deleteOne({\"student_id\" : \"201823902\"})"
   ]
  },
  {
   "cell_type": "code",
   "execution_count": null,
   "metadata": {},
   "outputs": [],
   "source": []
  },
  {
   "cell_type": "code",
   "execution_count": 3,
   "metadata": {},
   "outputs": [
    {
     "data": {},
     "metadata": {},
     "output_type": "display_data"
    },
    {
     "data": {},
     "metadata": {},
     "output_type": "display_data"
    },
    {
     "data": {
      "text/plain": [
       "WriteResult({ \"nInserted\" : 1 })"
      ]
     },
     "execution_count": 3,
     "metadata": {},
     "output_type": "execute_result"
    }
   ],
   "source": [
    "db.students.insert({\n",
    " \"first_name\" : \"John\",\n",
    " \"last_name\" : \"Doe\",\n",
    " \"date_of_admission\" : ISODate(\"2018-08-21T05:00:00Z\"),\n",
    " \"residence_hall\" : \"Bradley Hall\",\n",
    " \"has_car\" : true,\n",
    " \"student_id\" : \"201823902\",\n",
    " \"current_classes\" : [\n",
    "     \"His343\",\n",
    "     \"Math234\",\n",
    "     \"Phy123\",\n",
    "     \"Art232\"\n",
    " ]\n",
    "})"
   ]
  },
  {
   "cell_type": "markdown",
   "metadata": {},
   "source": [
    "**add an address object**"
   ]
  },
  {
   "cell_type": "code",
   "execution_count": 4,
   "metadata": {},
   "outputs": [
    {
     "data": {},
     "metadata": {},
     "output_type": "display_data"
    },
    {
     "data": {},
     "metadata": {},
     "output_type": "display_data"
    },
    {
     "data": {
      "text/plain": [
       "WriteResult({ \"nMatched\" : 1, \"nUpserted\" : 0, \"nModified\" : 1 })"
      ]
     },
     "execution_count": 4,
     "metadata": {},
     "output_type": "execute_result"
    }
   ],
   "source": [
    "db.students.update({\"student_id\" : \"201823902\"}, \n",
    "            {$set : { \"home_address\" : {\n",
    "                  \"address1\" : \"123 Main Street\",\n",
    "                  \"address2\" : \"second floor\",\n",
    "                  \"city\" : \"Springfield\",\n",
    "                  \"state\" : \"IL\",\n",
    "                  \"zip\" : \"62761\"\n",
    "                 } \n",
    "             }});"
   ]
  },
  {
   "cell_type": "code",
   "execution_count": 5,
   "metadata": {},
   "outputs": [
    {
     "data": {
      "text/html": [
       "<style>a.disclosure:link{text-decoration:none;}a.disclosure:visited{text-decoration:none;}.disclosure{color:#337AB7;font-size:150%;}.syntax{color:grey;}.string{color:#9A334F;}.number{color:#5C9632;}.boolean{color:#AA9739;}.key{color:#403075;}.keyword{color:#AA9739;}.object.syntax{color:#337AB7;}.array.syntax{color:#337AB7;}></style><div id=\"4013ead2-a9c5-4fce-9511-88c9169e26c2\"></div>"
      ]
     },
     "metadata": {},
     "output_type": "display_data"
    },
    {
     "data": {
      "application/javascript": [
       "require([\"https://rawgit.com/caldwell/renderjson/master/renderjson.js\"], function() {document.getElementById('4013ead2-a9c5-4fce-9511-88c9169e26c2').appendChild(renderjson.set_show_to_level(2)([\"Art232\"]))});"
      ]
     },
     "metadata": {},
     "output_type": "display_data"
    },
    {
     "data": {
      "text/plain": [
       "{\r\n",
       "\t\"_id\" : ObjectId(\"59ffae15d2d245848daa6147\"),\r\n",
       "\t\"first_name\" : \"John\",\r\n",
       "\t\"last_name\" : \"Doe\",\r\n",
       "\t\"date_of_admission\" : ISODate(\"2018-08-21T05:00:00Z\"),\r\n",
       "\t\"residence_hall\" : \"Bradley Hall\",\r\n",
       "\t\"has_car\" : true,\r\n",
       "\t\"student_id\" : \"201823902\",\r\n",
       "\t\"current_classes\" : [\r\n",
       "\t\t\"His343\",\r\n",
       "\t\t\"Math234\",\r\n",
       "\t\t\"Phy123\",\r\n",
       "\t\t\"Art232\"\r\n",
       "\t],\r\n",
       "\t\"home_address\" : {\r\n",
       "\t\t\"address1\" : \"123 Main Street\",\r\n",
       "\t\t\"address2\" : \"second floor\",\r\n",
       "\t\t\"city\" : \"Springfield\",\r\n",
       "\t\t\"state\" : \"IL\",\r\n",
       "\t\t\"zip\" : \"62761\"\r\n",
       "\t}\r\n",
       "}"
      ]
     },
     "execution_count": 5,
     "metadata": {},
     "output_type": "execute_result"
    }
   ],
   "source": [
    "db.students.find().pretty()"
   ]
  },
  {
   "cell_type": "markdown",
   "metadata": {},
   "source": [
    "**update an element of an object**"
   ]
  },
  {
   "cell_type": "code",
   "execution_count": 6,
   "metadata": {},
   "outputs": [
    {
     "data": {},
     "metadata": {},
     "output_type": "display_data"
    },
    {
     "data": {},
     "metadata": {},
     "output_type": "display_data"
    },
    {
     "data": {
      "text/plain": [
       "WriteResult({ \"nMatched\" : 1, \"nUpserted\" : 0, \"nModified\" : 1 })"
      ]
     },
     "execution_count": 6,
     "metadata": {},
     "output_type": "execute_result"
    }
   ],
   "source": [
    "db.students.update({\"student_id\" : \"201823902\"}, \n",
    "            {$set : { \"home_address.zip\" : \"62757\" }\n",
    "            });"
   ]
  },
  {
   "cell_type": "markdown",
   "metadata": {},
   "source": [
    "**pushing into arrays**"
   ]
  },
  {
   "cell_type": "code",
   "execution_count": 7,
   "metadata": {},
   "outputs": [
    {
     "data": {},
     "metadata": {},
     "output_type": "display_data"
    },
    {
     "data": {},
     "metadata": {},
     "output_type": "display_data"
    },
    {
     "data": {
      "text/plain": [
       "WriteResult({ \"nMatched\" : 1, \"nUpserted\" : 0, \"nModified\" : 1 })"
      ]
     },
     "execution_count": 7,
     "metadata": {},
     "output_type": "execute_result"
    }
   ],
   "source": [
    "db.students.update({\"student_id\" : \"201823902\"},{$push : {\"current_classes\":\"Mus101\"}})"
   ]
  },
  {
   "cell_type": "code",
   "execution_count": 8,
   "metadata": {},
   "outputs": [
    {
     "data": {
      "text/html": [
       "<style>a.disclosure:link{text-decoration:none;}a.disclosure:visited{text-decoration:none;}.disclosure{color:#337AB7;font-size:150%;}.syntax{color:grey;}.string{color:#9A334F;}.number{color:#5C9632;}.boolean{color:#AA9739;}.key{color:#403075;}.keyword{color:#AA9739;}.object.syntax{color:#337AB7;}.array.syntax{color:#337AB7;}></style><div id=\"1361c957-5d36-49c6-9087-abb7b9f116ce\"></div>"
      ]
     },
     "metadata": {},
     "output_type": "display_data"
    },
    {
     "data": {
      "application/javascript": [
       "require([\"https://rawgit.com/caldwell/renderjson/master/renderjson.js\"], function() {document.getElementById('1361c957-5d36-49c6-9087-abb7b9f116ce').appendChild(renderjson.set_show_to_level(2)([\"Mus101\"]))});"
      ]
     },
     "metadata": {},
     "output_type": "display_data"
    },
    {
     "data": {
      "text/plain": [
       "{\r\n",
       "\t\"_id\" : ObjectId(\"59ffae15d2d245848daa6147\"),\r\n",
       "\t\"first_name\" : \"John\",\r\n",
       "\t\"last_name\" : \"Doe\",\r\n",
       "\t\"date_of_admission\" : ISODate(\"2018-08-21T05:00:00Z\"),\r\n",
       "\t\"residence_hall\" : \"Bradley Hall\",\r\n",
       "\t\"has_car\" : true,\r\n",
       "\t\"student_id\" : \"201823902\",\r\n",
       "\t\"current_classes\" : [\r\n",
       "\t\t\"His343\",\r\n",
       "\t\t\"Math234\",\r\n",
       "\t\t\"Phy123\",\r\n",
       "\t\t\"Art232\",\r\n",
       "\t\t\"Mus101\"\r\n",
       "\t],\r\n",
       "\t\"home_address\" : {\r\n",
       "\t\t\"address1\" : \"123 Main Street\",\r\n",
       "\t\t\"address2\" : \"second floor\",\r\n",
       "\t\t\"city\" : \"Springfield\",\r\n",
       "\t\t\"state\" : \"IL\",\r\n",
       "\t\t\"zip\" : \"62757\"\r\n",
       "\t}\r\n",
       "}"
      ]
     },
     "execution_count": 8,
     "metadata": {},
     "output_type": "execute_result"
    }
   ],
   "source": [
    "db.students.find({\"student_id\" : \"201823902\"}).pretty()"
   ]
  },
  {
   "cell_type": "markdown",
   "metadata": {},
   "source": [
    "**push an array of objects**"
   ]
  },
  {
   "cell_type": "code",
   "execution_count": 9,
   "metadata": {},
   "outputs": [
    {
     "data": {},
     "metadata": {},
     "output_type": "display_data"
    },
    {
     "data": {},
     "metadata": {},
     "output_type": "display_data"
    },
    {
     "data": {
      "text/plain": [
       "WriteResult({ \"nMatched\" : 1, \"nUpserted\" : 0, \"nModified\" : 1 })"
      ]
     },
     "execution_count": 9,
     "metadata": {},
     "output_type": "execute_result"
    }
   ],
   "source": [
    "db.students.update({\"student_id\" : \"201823902\"},\n",
    "        {$push : {\"grades\" :{\"$each\" : [ {\"course\":\"His101\",\"grade\":\"A\"},\n",
    "                {\"course\":\"Math101\",\"grade\":\"B\"},\n",
    "                {\"course\":\"Phy101\",\"grade\":\"A\"} ] } } })"
   ]
  },
  {
   "cell_type": "code",
   "execution_count": 10,
   "metadata": {},
   "outputs": [
    {
     "data": {
      "text/html": [
       "<style>a.disclosure:link{text-decoration:none;}a.disclosure:visited{text-decoration:none;}.disclosure{color:#337AB7;font-size:150%;}.syntax{color:grey;}.string{color:#9A334F;}.number{color:#5C9632;}.boolean{color:#AA9739;}.key{color:#403075;}.keyword{color:#AA9739;}.object.syntax{color:#337AB7;}.array.syntax{color:#337AB7;}></style><div id=\"b59324a1-8558-4caa-9eca-04bc8d4275c9\"></div>"
      ]
     },
     "metadata": {},
     "output_type": "display_data"
    },
    {
     "data": {
      "application/javascript": [
       "require([\"https://rawgit.com/caldwell/renderjson/master/renderjson.js\"], function() {document.getElementById('b59324a1-8558-4caa-9eca-04bc8d4275c9').appendChild(renderjson.set_show_to_level(2)([\"Mus101\"]))});"
      ]
     },
     "metadata": {},
     "output_type": "display_data"
    },
    {
     "data": {
      "text/plain": [
       "{\r\n",
       "\t\"_id\" : ObjectId(\"59ffae15d2d245848daa6147\"),\r\n",
       "\t\"first_name\" : \"John\",\r\n",
       "\t\"last_name\" : \"Doe\",\r\n",
       "\t\"date_of_admission\" : ISODate(\"2018-08-21T05:00:00Z\"),\r\n",
       "\t\"residence_hall\" : \"Bradley Hall\",\r\n",
       "\t\"has_car\" : true,\r\n",
       "\t\"student_id\" : \"201823902\",\r\n",
       "\t\"current_classes\" : [\r\n",
       "\t\t\"His343\",\r\n",
       "\t\t\"Math234\",\r\n",
       "\t\t\"Phy123\",\r\n",
       "\t\t\"Art232\",\r\n",
       "\t\t\"Mus101\"\r\n",
       "\t],\r\n",
       "\t\"home_address\" : {\r\n",
       "\t\t\"address1\" : \"123 Main Street\",\r\n",
       "\t\t\"address2\" : \"second floor\",\r\n",
       "\t\t\"city\" : \"Springfield\",\r\n",
       "\t\t\"state\" : \"IL\",\r\n",
       "\t\t\"zip\" : \"62757\"\r\n",
       "\t},\r\n",
       "\t\"grades\" : [\r\n",
       "\t\t{\r\n",
       "\t\t\t\"course\" : \"His101\",\r\n",
       "\t\t\t\"grade\" : \"A\"\r\n",
       "\t\t},\r\n",
       "\t\t{\r\n",
       "\t\t\t\"course\" : \"Math101\",\r\n",
       "\t\t\t\"grade\" : \"B\"\r\n",
       "\t\t},\r\n",
       "\t\t{\r\n",
       "\t\t\t\"course\" : \"Phy101\",\r\n",
       "\t\t\t\"grade\" : \"A\"\r\n",
       "\t\t}\r\n",
       "\t]\r\n",
       "}"
      ]
     },
     "execution_count": 10,
     "metadata": {},
     "output_type": "execute_result"
    }
   ],
   "source": [
    "db.students.find({\"student_id\" : \"201823902\"}).pretty()"
   ]
  },
  {
   "cell_type": "markdown",
   "metadata": {},
   "source": [
    "**Use the $each command**"
   ]
  },
  {
   "cell_type": "code",
   "execution_count": 11,
   "metadata": {},
   "outputs": [
    {
     "data": {},
     "metadata": {},
     "output_type": "display_data"
    },
    {
     "data": {},
     "metadata": {},
     "output_type": "display_data"
    },
    {
     "data": {
      "text/plain": [
       "WriteResult({ \"nMatched\" : 1, \"nUpserted\" : 0, \"nModified\" : 1 })"
      ]
     },
     "execution_count": 11,
     "metadata": {},
     "output_type": "execute_result"
    }
   ],
   "source": [
    "db.students.update({\"student_id\" : \"201823902\"},\n",
    "                    {$push : {\"scores\" : { \"$each\" : [42,43,44,45,44,43,42,41,42,43,44]}}})"
   ]
  },
  {
   "cell_type": "code",
   "execution_count": 12,
   "metadata": {},
   "outputs": [
    {
     "data": {
      "text/html": [
       "<style>a.disclosure:link{text-decoration:none;}a.disclosure:visited{text-decoration:none;}.disclosure{color:#337AB7;font-size:150%;}.syntax{color:grey;}.string{color:#9A334F;}.number{color:#5C9632;}.boolean{color:#AA9739;}.key{color:#403075;}.keyword{color:#AA9739;}.object.syntax{color:#337AB7;}.array.syntax{color:#337AB7;}></style><div id=\"ad5a59c1-b32c-47f5-b99c-398cde657997\"></div>"
      ]
     },
     "metadata": {},
     "output_type": "display_data"
    },
    {
     "data": {
      "application/javascript": [
       "require([\"https://rawgit.com/caldwell/renderjson/master/renderjson.js\"], function() {document.getElementById('ad5a59c1-b32c-47f5-b99c-398cde657997').appendChild(renderjson.set_show_to_level(2)([\"Mus101\", 44]))});"
      ]
     },
     "metadata": {},
     "output_type": "display_data"
    },
    {
     "data": {
      "text/plain": [
       "{\r\n",
       "\t\"_id\" : ObjectId(\"59ffae15d2d245848daa6147\"),\r\n",
       "\t\"first_name\" : \"John\",\r\n",
       "\t\"last_name\" : \"Doe\",\r\n",
       "\t\"date_of_admission\" : ISODate(\"2018-08-21T05:00:00Z\"),\r\n",
       "\t\"residence_hall\" : \"Bradley Hall\",\r\n",
       "\t\"has_car\" : true,\r\n",
       "\t\"student_id\" : \"201823902\",\r\n",
       "\t\"current_classes\" : [\r\n",
       "\t\t\"His343\",\r\n",
       "\t\t\"Math234\",\r\n",
       "\t\t\"Phy123\",\r\n",
       "\t\t\"Art232\",\r\n",
       "\t\t\"Mus101\"\r\n",
       "\t],\r\n",
       "\t\"home_address\" : {\r\n",
       "\t\t\"address1\" : \"123 Main Street\",\r\n",
       "\t\t\"address2\" : \"second floor\",\r\n",
       "\t\t\"city\" : \"Springfield\",\r\n",
       "\t\t\"state\" : \"IL\",\r\n",
       "\t\t\"zip\" : \"62757\"\r\n",
       "\t},\r\n",
       "\t\"grades\" : [\r\n",
       "\t\t{\r\n",
       "\t\t\t\"course\" : \"His101\",\r\n",
       "\t\t\t\"grade\" : \"A\"\r\n",
       "\t\t},\r\n",
       "\t\t{\r\n",
       "\t\t\t\"course\" : \"Math101\",\r\n",
       "\t\t\t\"grade\" : \"B\"\r\n",
       "\t\t},\r\n",
       "\t\t{\r\n",
       "\t\t\t\"course\" : \"Phy101\",\r\n",
       "\t\t\t\"grade\" : \"A\"\r\n",
       "\t\t}\r\n",
       "\t],\r\n",
       "\t\"scores\" : [\r\n",
       "\t\t42,\r\n",
       "\t\t43,\r\n",
       "\t\t44,\r\n",
       "\t\t45,\r\n",
       "\t\t44,\r\n",
       "\t\t43,\r\n",
       "\t\t42,\r\n",
       "\t\t41,\r\n",
       "\t\t42,\r\n",
       "\t\t43,\r\n",
       "\t\t44\r\n",
       "\t]\r\n",
       "}"
      ]
     },
     "execution_count": 12,
     "metadata": {},
     "output_type": "execute_result"
    }
   ],
   "source": [
    "db.students.find({\"student_id\" : \"201823902\"}).pretty()"
   ]
  },
  {
   "cell_type": "markdown",
   "metadata": {},
   "source": [
    "**now restrict with slice to save only the most recent 10 entries**"
   ]
  },
  {
   "cell_type": "code",
   "execution_count": 13,
   "metadata": {},
   "outputs": [],
   "source": [
    "db.students.update({\"student_id\" : \"201823902\"},{$push : {\"scores\" : { \"$each\" : [92,83,74,65], \"$slice\" : -10}}})"
   ]
  },
  {
   "cell_type": "code",
   "execution_count": 14,
   "metadata": {},
   "outputs": [
    {
     "data": {
      "text/html": [
       "<style>a.disclosure:link{text-decoration:none;}a.disclosure:visited{text-decoration:none;}.disclosure{color:#337AB7;font-size:150%;}.syntax{color:grey;}.string{color:#9A334F;}.number{color:#5C9632;}.boolean{color:#AA9739;}.key{color:#403075;}.keyword{color:#AA9739;}.object.syntax{color:#337AB7;}.array.syntax{color:#337AB7;}></style><div id=\"5c86aa08-3761-4024-9141-ac1fc35b6e64\"></div>"
      ]
     },
     "metadata": {},
     "output_type": "display_data"
    },
    {
     "data": {
      "application/javascript": [
       "require([\"https://rawgit.com/caldwell/renderjson/master/renderjson.js\"], function() {document.getElementById('5c86aa08-3761-4024-9141-ac1fc35b6e64').appendChild(renderjson.set_show_to_level(2)([\"Mus101\", 65]))});"
      ]
     },
     "metadata": {},
     "output_type": "display_data"
    },
    {
     "data": {
      "text/plain": [
       "{\r\n",
       "\t\"_id\" : ObjectId(\"59ffae15d2d245848daa6147\"),\r\n",
       "\t\"first_name\" : \"John\",\r\n",
       "\t\"last_name\" : \"Doe\",\r\n",
       "\t\"date_of_admission\" : ISODate(\"2018-08-21T05:00:00Z\"),\r\n",
       "\t\"residence_hall\" : \"Bradley Hall\",\r\n",
       "\t\"has_car\" : true,\r\n",
       "\t\"student_id\" : \"201823902\",\r\n",
       "\t\"current_classes\" : [\r\n",
       "\t\t\"His343\",\r\n",
       "\t\t\"Math234\",\r\n",
       "\t\t\"Phy123\",\r\n",
       "\t\t\"Art232\",\r\n",
       "\t\t\"Mus101\"\r\n",
       "\t],\r\n",
       "\t\"home_address\" : {\r\n",
       "\t\t\"address1\" : \"123 Main Street\",\r\n",
       "\t\t\"address2\" : \"second floor\",\r\n",
       "\t\t\"city\" : \"Springfield\",\r\n",
       "\t\t\"state\" : \"IL\",\r\n",
       "\t\t\"zip\" : \"62757\"\r\n",
       "\t},\r\n",
       "\t\"grades\" : [\r\n",
       "\t\t{\r\n",
       "\t\t\t\"course\" : \"His101\",\r\n",
       "\t\t\t\"grade\" : \"A\"\r\n",
       "\t\t},\r\n",
       "\t\t{\r\n",
       "\t\t\t\"course\" : \"Math101\",\r\n",
       "\t\t\t\"grade\" : \"B\"\r\n",
       "\t\t},\r\n",
       "\t\t{\r\n",
       "\t\t\t\"course\" : \"Phy101\",\r\n",
       "\t\t\t\"grade\" : \"A\"\r\n",
       "\t\t}\r\n",
       "\t],\r\n",
       "\t\"scores\" : [\r\n",
       "\t\t43,\r\n",
       "\t\t42,\r\n",
       "\t\t41,\r\n",
       "\t\t42,\r\n",
       "\t\t43,\r\n",
       "\t\t44,\r\n",
       "\t\t92,\r\n",
       "\t\t83,\r\n",
       "\t\t74,\r\n",
       "\t\t65\r\n",
       "\t]\r\n",
       "}"
      ]
     },
     "execution_count": 14,
     "metadata": {},
     "output_type": "execute_result"
    }
   ],
   "source": [
    "db.students.find({\"student_id\" : \"201823902\"}).pretty()"
   ]
  },
  {
   "cell_type": "markdown",
   "metadata": {},
   "source": [
    "**Add some more scores, but only keep the best scores**"
   ]
  },
  {
   "cell_type": "code",
   "execution_count": 15,
   "metadata": {},
   "outputs": [
    {
     "data": {},
     "metadata": {},
     "output_type": "display_data"
    },
    {
     "data": {},
     "metadata": {},
     "output_type": "display_data"
    },
    {
     "data": {
      "text/plain": [
       "WriteResult({ \"nMatched\" : 1, \"nUpserted\" : 0, \"nModified\" : 1 })"
      ]
     },
     "execution_count": 15,
     "metadata": {},
     "output_type": "execute_result"
    }
   ],
   "source": [
    "db.students.update({\"student_id\" : \"201823902\"},{$push : {\"scores\" : { \"$each\" : [81,73,54,75], \n",
    "    \"$slice\" : -10, $sort : {\"scores\" : -1}}}})"
   ]
  },
  {
   "cell_type": "code",
   "execution_count": 16,
   "metadata": {},
   "outputs": [
    {
     "data": {
      "text/html": [
       "<style>a.disclosure:link{text-decoration:none;}a.disclosure:visited{text-decoration:none;}.disclosure{color:#337AB7;font-size:150%;}.syntax{color:grey;}.string{color:#9A334F;}.number{color:#5C9632;}.boolean{color:#AA9739;}.key{color:#403075;}.keyword{color:#AA9739;}.object.syntax{color:#337AB7;}.array.syntax{color:#337AB7;}></style><div id=\"fa95466e-5bd0-40a1-b1fa-9d57640e1c1e\"></div>"
      ]
     },
     "metadata": {},
     "output_type": "display_data"
    },
    {
     "data": {
      "application/javascript": [
       "require([\"https://rawgit.com/caldwell/renderjson/master/renderjson.js\"], function() {document.getElementById('fa95466e-5bd0-40a1-b1fa-9d57640e1c1e').appendChild(renderjson.set_show_to_level(2)([\"Mus101\", 75]))});"
      ]
     },
     "metadata": {},
     "output_type": "display_data"
    },
    {
     "data": {
      "text/plain": [
       "{\r\n",
       "\t\"_id\" : ObjectId(\"59ffae15d2d245848daa6147\"),\r\n",
       "\t\"first_name\" : \"John\",\r\n",
       "\t\"last_name\" : \"Doe\",\r\n",
       "\t\"date_of_admission\" : ISODate(\"2018-08-21T05:00:00Z\"),\r\n",
       "\t\"residence_hall\" : \"Bradley Hall\",\r\n",
       "\t\"has_car\" : true,\r\n",
       "\t\"student_id\" : \"201823902\",\r\n",
       "\t\"current_classes\" : [\r\n",
       "\t\t\"His343\",\r\n",
       "\t\t\"Math234\",\r\n",
       "\t\t\"Phy123\",\r\n",
       "\t\t\"Art232\",\r\n",
       "\t\t\"Mus101\"\r\n",
       "\t],\r\n",
       "\t\"home_address\" : {\r\n",
       "\t\t\"address1\" : \"123 Main Street\",\r\n",
       "\t\t\"address2\" : \"second floor\",\r\n",
       "\t\t\"city\" : \"Springfield\",\r\n",
       "\t\t\"state\" : \"IL\",\r\n",
       "\t\t\"zip\" : \"62757\"\r\n",
       "\t},\r\n",
       "\t\"grades\" : [\r\n",
       "\t\t{\r\n",
       "\t\t\t\"course\" : \"His101\",\r\n",
       "\t\t\t\"grade\" : \"A\"\r\n",
       "\t\t},\r\n",
       "\t\t{\r\n",
       "\t\t\t\"course\" : \"Math101\",\r\n",
       "\t\t\t\"grade\" : \"B\"\r\n",
       "\t\t},\r\n",
       "\t\t{\r\n",
       "\t\t\t\"course\" : \"Phy101\",\r\n",
       "\t\t\t\"grade\" : \"A\"\r\n",
       "\t\t}\r\n",
       "\t],\r\n",
       "\t\"scores\" : [\r\n",
       "\t\t43,\r\n",
       "\t\t44,\r\n",
       "\t\t92,\r\n",
       "\t\t83,\r\n",
       "\t\t74,\r\n",
       "\t\t65,\r\n",
       "\t\t81,\r\n",
       "\t\t73,\r\n",
       "\t\t54,\r\n",
       "\t\t75\r\n",
       "\t]\r\n",
       "}"
      ]
     },
     "execution_count": 16,
     "metadata": {},
     "output_type": "execute_result"
    }
   ],
   "source": [
    "db.students.find({\"student_id\" : \"201823902\"}).pretty()"
   ]
  },
  {
   "cell_type": "markdown",
   "metadata": {},
   "source": [
    "**Add some school books to work with**"
   ]
  },
  {
   "cell_type": "code",
   "execution_count": 17,
   "metadata": {},
   "outputs": [
    {
     "data": {},
     "metadata": {},
     "output_type": "display_data"
    },
    {
     "data": {},
     "metadata": {},
     "output_type": "display_data"
    },
    {
     "data": {
      "text/plain": [
       "WriteResult({ \"nMatched\" : 1, \"nUpserted\" : 0, \"nModified\" : 1 })"
      ]
     },
     "execution_count": 17,
     "metadata": {},
     "output_type": "execute_result"
    }
   ],
   "source": [
    "db.students.update({\"student_id\" : \"201823902\"},{$push : {\"books\" : \n",
    "                { \"$each\" : [\"His343\",\"Math234\",\"Phy123\",\"Art232\",\"Mus101\"]}}})"
   ]
  },
  {
   "cell_type": "code",
   "execution_count": 18,
   "metadata": {},
   "outputs": [
    {
     "data": {
      "text/html": [
       "<style>a.disclosure:link{text-decoration:none;}a.disclosure:visited{text-decoration:none;}.disclosure{color:#337AB7;font-size:150%;}.syntax{color:grey;}.string{color:#9A334F;}.number{color:#5C9632;}.boolean{color:#AA9739;}.key{color:#403075;}.keyword{color:#AA9739;}.object.syntax{color:#337AB7;}.array.syntax{color:#337AB7;}></style><div id=\"c878c2e6-b04f-4d65-8e4f-b94ae610a1a4\"></div>"
      ]
     },
     "metadata": {},
     "output_type": "display_data"
    },
    {
     "data": {
      "application/javascript": [
       "require([\"https://rawgit.com/caldwell/renderjson/master/renderjson.js\"], function() {document.getElementById('c878c2e6-b04f-4d65-8e4f-b94ae610a1a4').appendChild(renderjson.set_show_to_level(2)([\"Mus101\", 75, \"Mus101\"]))});"
      ]
     },
     "metadata": {},
     "output_type": "display_data"
    },
    {
     "data": {
      "text/plain": [
       "{\r\n",
       "\t\"_id\" : ObjectId(\"59ffae15d2d245848daa6147\"),\r\n",
       "\t\"first_name\" : \"John\",\r\n",
       "\t\"last_name\" : \"Doe\",\r\n",
       "\t\"date_of_admission\" : ISODate(\"2018-08-21T05:00:00Z\"),\r\n",
       "\t\"residence_hall\" : \"Bradley Hall\",\r\n",
       "\t\"has_car\" : true,\r\n",
       "\t\"student_id\" : \"201823902\",\r\n",
       "\t\"current_classes\" : [\r\n",
       "\t\t\"His343\",\r\n",
       "\t\t\"Math234\",\r\n",
       "\t\t\"Phy123\",\r\n",
       "\t\t\"Art232\",\r\n",
       "\t\t\"Mus101\"\r\n",
       "\t],\r\n",
       "\t\"home_address\" : {\r\n",
       "\t\t\"address1\" : \"123 Main Street\",\r\n",
       "\t\t\"address2\" : \"second floor\",\r\n",
       "\t\t\"city\" : \"Springfield\",\r\n",
       "\t\t\"state\" : \"IL\",\r\n",
       "\t\t\"zip\" : \"62757\"\r\n",
       "\t},\r\n",
       "\t\"grades\" : [\r\n",
       "\t\t{\r\n",
       "\t\t\t\"course\" : \"His101\",\r\n",
       "\t\t\t\"grade\" : \"A\"\r\n",
       "\t\t},\r\n",
       "\t\t{\r\n",
       "\t\t\t\"course\" : \"Math101\",\r\n",
       "\t\t\t\"grade\" : \"B\"\r\n",
       "\t\t},\r\n",
       "\t\t{\r\n",
       "\t\t\t\"course\" : \"Phy101\",\r\n",
       "\t\t\t\"grade\" : \"A\"\r\n",
       "\t\t}\r\n",
       "\t],\r\n",
       "\t\"scores\" : [\r\n",
       "\t\t43,\r\n",
       "\t\t44,\r\n",
       "\t\t92,\r\n",
       "\t\t83,\r\n",
       "\t\t74,\r\n",
       "\t\t65,\r\n",
       "\t\t81,\r\n",
       "\t\t73,\r\n",
       "\t\t54,\r\n",
       "\t\t75\r\n",
       "\t],\r\n",
       "\t\"books\" : [\r\n",
       "\t\t\"His343\",\r\n",
       "\t\t\"Math234\",\r\n",
       "\t\t\"Phy123\",\r\n",
       "\t\t\"Art232\",\r\n",
       "\t\t\"Mus101\"\r\n",
       "\t]\r\n",
       "}"
      ]
     },
     "execution_count": 18,
     "metadata": {},
     "output_type": "execute_result"
    }
   ],
   "source": [
    "db.students.find({\"student_id\" : \"201823902\"}).pretty()"
   ]
  },
  {
   "cell_type": "markdown",
   "metadata": {},
   "source": [
    "**pop a book off the end of the list**"
   ]
  },
  {
   "cell_type": "code",
   "execution_count": 19,
   "metadata": {},
   "outputs": [
    {
     "data": {},
     "metadata": {},
     "output_type": "display_data"
    },
    {
     "data": {},
     "metadata": {},
     "output_type": "display_data"
    },
    {
     "data": {
      "text/plain": [
       "WriteResult({ \"nMatched\" : 1, \"nUpserted\" : 0, \"nModified\" : 1 })"
      ]
     },
     "execution_count": 19,
     "metadata": {},
     "output_type": "execute_result"
    }
   ],
   "source": [
    "db.students.update({\"student_id\" : \"201823902\"},{$pop : {\"books\":1}})"
   ]
  },
  {
   "cell_type": "code",
   "execution_count": 20,
   "metadata": {},
   "outputs": [
    {
     "data": {
      "text/html": [
       "<style>a.disclosure:link{text-decoration:none;}a.disclosure:visited{text-decoration:none;}.disclosure{color:#337AB7;font-size:150%;}.syntax{color:grey;}.string{color:#9A334F;}.number{color:#5C9632;}.boolean{color:#AA9739;}.key{color:#403075;}.keyword{color:#AA9739;}.object.syntax{color:#337AB7;}.array.syntax{color:#337AB7;}></style><div id=\"02b8ffc3-a857-4624-bc3a-31d15f94f69e\"></div>"
      ]
     },
     "metadata": {},
     "output_type": "display_data"
    },
    {
     "data": {
      "application/javascript": [
       "require([\"https://rawgit.com/caldwell/renderjson/master/renderjson.js\"], function() {document.getElementById('02b8ffc3-a857-4624-bc3a-31d15f94f69e').appendChild(renderjson.set_show_to_level(2)([\"Mus101\", 75, \"Art232\"]))});"
      ]
     },
     "metadata": {},
     "output_type": "display_data"
    },
    {
     "data": {
      "text/plain": [
       "{\r\n",
       "\t\"_id\" : ObjectId(\"59ffae15d2d245848daa6147\"),\r\n",
       "\t\"first_name\" : \"John\",\r\n",
       "\t\"last_name\" : \"Doe\",\r\n",
       "\t\"date_of_admission\" : ISODate(\"2018-08-21T05:00:00Z\"),\r\n",
       "\t\"residence_hall\" : \"Bradley Hall\",\r\n",
       "\t\"has_car\" : true,\r\n",
       "\t\"student_id\" : \"201823902\",\r\n",
       "\t\"current_classes\" : [\r\n",
       "\t\t\"His343\",\r\n",
       "\t\t\"Math234\",\r\n",
       "\t\t\"Phy123\",\r\n",
       "\t\t\"Art232\",\r\n",
       "\t\t\"Mus101\"\r\n",
       "\t],\r\n",
       "\t\"home_address\" : {\r\n",
       "\t\t\"address1\" : \"123 Main Street\",\r\n",
       "\t\t\"address2\" : \"second floor\",\r\n",
       "\t\t\"city\" : \"Springfield\",\r\n",
       "\t\t\"state\" : \"IL\",\r\n",
       "\t\t\"zip\" : \"62757\"\r\n",
       "\t},\r\n",
       "\t\"grades\" : [\r\n",
       "\t\t{\r\n",
       "\t\t\t\"course\" : \"His101\",\r\n",
       "\t\t\t\"grade\" : \"A\"\r\n",
       "\t\t},\r\n",
       "\t\t{\r\n",
       "\t\t\t\"course\" : \"Math101\",\r\n",
       "\t\t\t\"grade\" : \"B\"\r\n",
       "\t\t},\r\n",
       "\t\t{\r\n",
       "\t\t\t\"course\" : \"Phy101\",\r\n",
       "\t\t\t\"grade\" : \"A\"\r\n",
       "\t\t}\r\n",
       "\t],\r\n",
       "\t\"scores\" : [\r\n",
       "\t\t43,\r\n",
       "\t\t44,\r\n",
       "\t\t92,\r\n",
       "\t\t83,\r\n",
       "\t\t74,\r\n",
       "\t\t65,\r\n",
       "\t\t81,\r\n",
       "\t\t73,\r\n",
       "\t\t54,\r\n",
       "\t\t75\r\n",
       "\t],\r\n",
       "\t\"books\" : [\r\n",
       "\t\t\"His343\",\r\n",
       "\t\t\"Math234\",\r\n",
       "\t\t\"Phy123\",\r\n",
       "\t\t\"Art232\"\r\n",
       "\t]\r\n",
       "}"
      ]
     },
     "execution_count": 20,
     "metadata": {},
     "output_type": "execute_result"
    }
   ],
   "source": [
    "db.students.find({\"student_id\" : \"201823902\"}).pretty()"
   ]
  },
  {
   "cell_type": "markdown",
   "metadata": {},
   "source": [
    "**take a book off the beginning of the list**"
   ]
  },
  {
   "cell_type": "code",
   "execution_count": 21,
   "metadata": {},
   "outputs": [
    {
     "data": {},
     "metadata": {},
     "output_type": "display_data"
    },
    {
     "data": {},
     "metadata": {},
     "output_type": "display_data"
    },
    {
     "data": {
      "text/plain": [
       "WriteResult({ \"nMatched\" : 1, \"nUpserted\" : 0, \"nModified\" : 1 })"
      ]
     },
     "execution_count": 21,
     "metadata": {},
     "output_type": "execute_result"
    }
   ],
   "source": [
    "db.students.update({\"student_id\" : \"201823902\"},{$pop : {\"books\":-1}})"
   ]
  },
  {
   "cell_type": "code",
   "execution_count": 22,
   "metadata": {},
   "outputs": [
    {
     "data": {
      "text/html": [
       "<style>a.disclosure:link{text-decoration:none;}a.disclosure:visited{text-decoration:none;}.disclosure{color:#337AB7;font-size:150%;}.syntax{color:grey;}.string{color:#9A334F;}.number{color:#5C9632;}.boolean{color:#AA9739;}.key{color:#403075;}.keyword{color:#AA9739;}.object.syntax{color:#337AB7;}.array.syntax{color:#337AB7;}></style><div id=\"f1791ed7-7b97-444f-92c8-68db6efe59e3\"></div>"
      ]
     },
     "metadata": {},
     "output_type": "display_data"
    },
    {
     "data": {
      "application/javascript": [
       "require([\"https://rawgit.com/caldwell/renderjson/master/renderjson.js\"], function() {document.getElementById('f1791ed7-7b97-444f-92c8-68db6efe59e3').appendChild(renderjson.set_show_to_level(2)([\"Mus101\", 75, \"Art232\"]))});"
      ]
     },
     "metadata": {},
     "output_type": "display_data"
    },
    {
     "data": {
      "text/plain": [
       "{\r\n",
       "\t\"_id\" : ObjectId(\"59ffae15d2d245848daa6147\"),\r\n",
       "\t\"first_name\" : \"John\",\r\n",
       "\t\"last_name\" : \"Doe\",\r\n",
       "\t\"date_of_admission\" : ISODate(\"2018-08-21T05:00:00Z\"),\r\n",
       "\t\"residence_hall\" : \"Bradley Hall\",\r\n",
       "\t\"has_car\" : true,\r\n",
       "\t\"student_id\" : \"201823902\",\r\n",
       "\t\"current_classes\" : [\r\n",
       "\t\t\"His343\",\r\n",
       "\t\t\"Math234\",\r\n",
       "\t\t\"Phy123\",\r\n",
       "\t\t\"Art232\",\r\n",
       "\t\t\"Mus101\"\r\n",
       "\t],\r\n",
       "\t\"home_address\" : {\r\n",
       "\t\t\"address1\" : \"123 Main Street\",\r\n",
       "\t\t\"address2\" : \"second floor\",\r\n",
       "\t\t\"city\" : \"Springfield\",\r\n",
       "\t\t\"state\" : \"IL\",\r\n",
       "\t\t\"zip\" : \"62757\"\r\n",
       "\t},\r\n",
       "\t\"grades\" : [\r\n",
       "\t\t{\r\n",
       "\t\t\t\"course\" : \"His101\",\r\n",
       "\t\t\t\"grade\" : \"A\"\r\n",
       "\t\t},\r\n",
       "\t\t{\r\n",
       "\t\t\t\"course\" : \"Math101\",\r\n",
       "\t\t\t\"grade\" : \"B\"\r\n",
       "\t\t},\r\n",
       "\t\t{\r\n",
       "\t\t\t\"course\" : \"Phy101\",\r\n",
       "\t\t\t\"grade\" : \"A\"\r\n",
       "\t\t}\r\n",
       "\t],\r\n",
       "\t\"scores\" : [\r\n",
       "\t\t43,\r\n",
       "\t\t44,\r\n",
       "\t\t92,\r\n",
       "\t\t83,\r\n",
       "\t\t74,\r\n",
       "\t\t65,\r\n",
       "\t\t81,\r\n",
       "\t\t73,\r\n",
       "\t\t54,\r\n",
       "\t\t75\r\n",
       "\t],\r\n",
       "\t\"books\" : [\r\n",
       "\t\t\"Math234\",\r\n",
       "\t\t\"Phy123\",\r\n",
       "\t\t\"Art232\"\r\n",
       "\t]\r\n",
       "}"
      ]
     },
     "execution_count": 22,
     "metadata": {},
     "output_type": "execute_result"
    }
   ],
   "source": [
    "db.students.find({\"student_id\" : \"201823902\"}).pretty()"
   ]
  },
  {
   "cell_type": "markdown",
   "metadata": {},
   "source": [
    "**remove a specific element from an array**"
   ]
  },
  {
   "cell_type": "code",
   "execution_count": 23,
   "metadata": {},
   "outputs": [
    {
     "data": {},
     "metadata": {},
     "output_type": "display_data"
    },
    {
     "data": {},
     "metadata": {},
     "output_type": "display_data"
    },
    {
     "data": {
      "text/plain": [
       "WriteResult({ \"nMatched\" : 1, \"nUpserted\" : 0, \"nModified\" : 1 })"
      ]
     },
     "execution_count": 23,
     "metadata": {},
     "output_type": "execute_result"
    }
   ],
   "source": [
    "db.students.update({\"student_id\" : \"201823902\"},{$pull : {\"books\":\"Phy123\"}})"
   ]
  },
  {
   "cell_type": "code",
   "execution_count": 24,
   "metadata": {},
   "outputs": [
    {
     "data": {
      "text/html": [
       "<style>a.disclosure:link{text-decoration:none;}a.disclosure:visited{text-decoration:none;}.disclosure{color:#337AB7;font-size:150%;}.syntax{color:grey;}.string{color:#9A334F;}.number{color:#5C9632;}.boolean{color:#AA9739;}.key{color:#403075;}.keyword{color:#AA9739;}.object.syntax{color:#337AB7;}.array.syntax{color:#337AB7;}></style><div id=\"bd1724d4-2183-4e6c-bca1-74d3402023bf\"></div>"
      ]
     },
     "metadata": {},
     "output_type": "display_data"
    },
    {
     "data": {
      "application/javascript": [
       "require([\"https://rawgit.com/caldwell/renderjson/master/renderjson.js\"], function() {document.getElementById('bd1724d4-2183-4e6c-bca1-74d3402023bf').appendChild(renderjson.set_show_to_level(2)([\"Mus101\", 75, \"Art232\"]))});"
      ]
     },
     "metadata": {},
     "output_type": "display_data"
    },
    {
     "data": {
      "text/plain": [
       "{\r\n",
       "\t\"_id\" : ObjectId(\"59ffae15d2d245848daa6147\"),\r\n",
       "\t\"first_name\" : \"John\",\r\n",
       "\t\"last_name\" : \"Doe\",\r\n",
       "\t\"date_of_admission\" : ISODate(\"2018-08-21T05:00:00Z\"),\r\n",
       "\t\"residence_hall\" : \"Bradley Hall\",\r\n",
       "\t\"has_car\" : true,\r\n",
       "\t\"student_id\" : \"201823902\",\r\n",
       "\t\"current_classes\" : [\r\n",
       "\t\t\"His343\",\r\n",
       "\t\t\"Math234\",\r\n",
       "\t\t\"Phy123\",\r\n",
       "\t\t\"Art232\",\r\n",
       "\t\t\"Mus101\"\r\n",
       "\t],\r\n",
       "\t\"home_address\" : {\r\n",
       "\t\t\"address1\" : \"123 Main Street\",\r\n",
       "\t\t\"address2\" : \"second floor\",\r\n",
       "\t\t\"city\" : \"Springfield\",\r\n",
       "\t\t\"state\" : \"IL\",\r\n",
       "\t\t\"zip\" : \"62757\"\r\n",
       "\t},\r\n",
       "\t\"grades\" : [\r\n",
       "\t\t{\r\n",
       "\t\t\t\"course\" : \"His101\",\r\n",
       "\t\t\t\"grade\" : \"A\"\r\n",
       "\t\t},\r\n",
       "\t\t{\r\n",
       "\t\t\t\"course\" : \"Math101\",\r\n",
       "\t\t\t\"grade\" : \"B\"\r\n",
       "\t\t},\r\n",
       "\t\t{\r\n",
       "\t\t\t\"course\" : \"Phy101\",\r\n",
       "\t\t\t\"grade\" : \"A\"\r\n",
       "\t\t}\r\n",
       "\t],\r\n",
       "\t\"scores\" : [\r\n",
       "\t\t43,\r\n",
       "\t\t44,\r\n",
       "\t\t92,\r\n",
       "\t\t83,\r\n",
       "\t\t74,\r\n",
       "\t\t65,\r\n",
       "\t\t81,\r\n",
       "\t\t73,\r\n",
       "\t\t54,\r\n",
       "\t\t75\r\n",
       "\t],\r\n",
       "\t\"books\" : [\r\n",
       "\t\t\"Math234\",\r\n",
       "\t\t\"Art232\"\r\n",
       "\t]\r\n",
       "}"
      ]
     },
     "execution_count": 24,
     "metadata": {},
     "output_type": "execute_result"
    }
   ],
   "source": [
    "db.students.find({\"student_id\" : \"201823902\"}).pretty()"
   ]
  },
  {
   "cell_type": "markdown",
   "metadata": {},
   "source": [
    "**set the array back so we can work with it again**"
   ]
  },
  {
   "cell_type": "code",
   "execution_count": 25,
   "metadata": {},
   "outputs": [
    {
     "data": {},
     "metadata": {},
     "output_type": "display_data"
    },
    {
     "data": {},
     "metadata": {},
     "output_type": "display_data"
    },
    {
     "data": {
      "text/plain": [
       "WriteResult({ \"nMatched\" : 1, \"nUpserted\" : 0, \"nModified\" : 1 })"
      ]
     },
     "execution_count": 25,
     "metadata": {},
     "output_type": "execute_result"
    }
   ],
   "source": [
    "db.students.update({\"student_id\" : \"201823902\"},{$set : {\"books\" :  [\"His343\",\"Math234\",\"Phy123\",\"Art232\",\"Mus101\"]}})"
   ]
  },
  {
   "cell_type": "markdown",
   "metadata": {},
   "source": [
    "**refer to an array element if you already know the position**"
   ]
  },
  {
   "cell_type": "code",
   "execution_count": 26,
   "metadata": {},
   "outputs": [
    {
     "data": {},
     "metadata": {},
     "output_type": "display_data"
    },
    {
     "data": {},
     "metadata": {},
     "output_type": "display_data"
    },
    {
     "data": {
      "text/plain": [
       "WriteResult({ \"nMatched\" : 1, \"nUpserted\" : 0, \"nModified\" : 1 })"
      ]
     },
     "execution_count": 26,
     "metadata": {},
     "output_type": "execute_result"
    }
   ],
   "source": [
    "db.students.update({\"student_id\" : \"201823902\"},{$set : {\"books.2\" : \"Phi123\"}})"
   ]
  },
  {
   "cell_type": "code",
   "execution_count": 27,
   "metadata": {},
   "outputs": [
    {
     "data": {
      "text/html": [
       "<style>a.disclosure:link{text-decoration:none;}a.disclosure:visited{text-decoration:none;}.disclosure{color:#337AB7;font-size:150%;}.syntax{color:grey;}.string{color:#9A334F;}.number{color:#5C9632;}.boolean{color:#AA9739;}.key{color:#403075;}.keyword{color:#AA9739;}.object.syntax{color:#337AB7;}.array.syntax{color:#337AB7;}></style><div id=\"c92e66d9-4f38-4916-a0c3-a61e999c935d\"></div>"
      ]
     },
     "metadata": {},
     "output_type": "display_data"
    },
    {
     "data": {
      "application/javascript": [
       "require([\"https://rawgit.com/caldwell/renderjson/master/renderjson.js\"], function() {document.getElementById('c92e66d9-4f38-4916-a0c3-a61e999c935d').appendChild(renderjson.set_show_to_level(2)([\"Mus101\", 75, \"Mus101\"]))});"
      ]
     },
     "metadata": {},
     "output_type": "display_data"
    },
    {
     "data": {
      "text/plain": [
       "{\r\n",
       "\t\"_id\" : ObjectId(\"59ffae15d2d245848daa6147\"),\r\n",
       "\t\"first_name\" : \"John\",\r\n",
       "\t\"last_name\" : \"Doe\",\r\n",
       "\t\"date_of_admission\" : ISODate(\"2018-08-21T05:00:00Z\"),\r\n",
       "\t\"residence_hall\" : \"Bradley Hall\",\r\n",
       "\t\"has_car\" : true,\r\n",
       "\t\"student_id\" : \"201823902\",\r\n",
       "\t\"current_classes\" : [\r\n",
       "\t\t\"His343\",\r\n",
       "\t\t\"Math234\",\r\n",
       "\t\t\"Phy123\",\r\n",
       "\t\t\"Art232\",\r\n",
       "\t\t\"Mus101\"\r\n",
       "\t],\r\n",
       "\t\"home_address\" : {\r\n",
       "\t\t\"address1\" : \"123 Main Street\",\r\n",
       "\t\t\"address2\" : \"second floor\",\r\n",
       "\t\t\"city\" : \"Springfield\",\r\n",
       "\t\t\"state\" : \"IL\",\r\n",
       "\t\t\"zip\" : \"62757\"\r\n",
       "\t},\r\n",
       "\t\"grades\" : [\r\n",
       "\t\t{\r\n",
       "\t\t\t\"course\" : \"His101\",\r\n",
       "\t\t\t\"grade\" : \"A\"\r\n",
       "\t\t},\r\n",
       "\t\t{\r\n",
       "\t\t\t\"course\" : \"Math101\",\r\n",
       "\t\t\t\"grade\" : \"B\"\r\n",
       "\t\t},\r\n",
       "\t\t{\r\n",
       "\t\t\t\"course\" : \"Phy101\",\r\n",
       "\t\t\t\"grade\" : \"A\"\r\n",
       "\t\t}\r\n",
       "\t],\r\n",
       "\t\"scores\" : [\r\n",
       "\t\t43,\r\n",
       "\t\t44,\r\n",
       "\t\t92,\r\n",
       "\t\t83,\r\n",
       "\t\t74,\r\n",
       "\t\t65,\r\n",
       "\t\t81,\r\n",
       "\t\t73,\r\n",
       "\t\t54,\r\n",
       "\t\t75\r\n",
       "\t],\r\n",
       "\t\"books\" : [\r\n",
       "\t\t\"His343\",\r\n",
       "\t\t\"Math234\",\r\n",
       "\t\t\"Phi123\",\r\n",
       "\t\t\"Art232\",\r\n",
       "\t\t\"Mus101\"\r\n",
       "\t]\r\n",
       "}"
      ]
     },
     "execution_count": 27,
     "metadata": {},
     "output_type": "execute_result"
    }
   ],
   "source": [
    "db.students.find({\"student_id\" : \"201823902\"}).pretty()"
   ]
  },
  {
   "cell_type": "markdown",
   "metadata": {},
   "source": [
    "**refer to an array element by the search results**"
   ]
  },
  {
   "cell_type": "code",
   "execution_count": 28,
   "metadata": {},
   "outputs": [
    {
     "data": {},
     "metadata": {},
     "output_type": "display_data"
    },
    {
     "data": {},
     "metadata": {},
     "output_type": "display_data"
    },
    {
     "data": {
      "text/plain": [
       "WriteResult({ \"nMatched\" : 1, \"nUpserted\" : 0, \"nModified\" : 1 })"
      ]
     },
     "execution_count": 28,
     "metadata": {},
     "output_type": "execute_result"
    }
   ],
   "source": [
    "db.students.update({\"grades.course\" : \"Math101\"}, { \"$set\" : {\"grades.$.grade\" : \"A\"}})"
   ]
  },
  {
   "cell_type": "code",
   "execution_count": 29,
   "metadata": {},
   "outputs": [
    {
     "data": {
      "text/html": [
       "<style>a.disclosure:link{text-decoration:none;}a.disclosure:visited{text-decoration:none;}.disclosure{color:#337AB7;font-size:150%;}.syntax{color:grey;}.string{color:#9A334F;}.number{color:#5C9632;}.boolean{color:#AA9739;}.key{color:#403075;}.keyword{color:#AA9739;}.object.syntax{color:#337AB7;}.array.syntax{color:#337AB7;}></style><div id=\"dea682e6-5f43-465d-b8df-e088e745dc3a\"></div>"
      ]
     },
     "metadata": {},
     "output_type": "display_data"
    },
    {
     "data": {
      "application/javascript": [
       "require([\"https://rawgit.com/caldwell/renderjson/master/renderjson.js\"], function() {document.getElementById('dea682e6-5f43-465d-b8df-e088e745dc3a').appendChild(renderjson.set_show_to_level(2)([\"Mus101\", 75, \"Mus101\"]))});"
      ]
     },
     "metadata": {},
     "output_type": "display_data"
    },
    {
     "data": {
      "text/plain": [
       "{\r\n",
       "\t\"_id\" : ObjectId(\"59ffae15d2d245848daa6147\"),\r\n",
       "\t\"first_name\" : \"John\",\r\n",
       "\t\"last_name\" : \"Doe\",\r\n",
       "\t\"date_of_admission\" : ISODate(\"2018-08-21T05:00:00Z\"),\r\n",
       "\t\"residence_hall\" : \"Bradley Hall\",\r\n",
       "\t\"has_car\" : true,\r\n",
       "\t\"student_id\" : \"201823902\",\r\n",
       "\t\"current_classes\" : [\r\n",
       "\t\t\"His343\",\r\n",
       "\t\t\"Math234\",\r\n",
       "\t\t\"Phy123\",\r\n",
       "\t\t\"Art232\",\r\n",
       "\t\t\"Mus101\"\r\n",
       "\t],\r\n",
       "\t\"home_address\" : {\r\n",
       "\t\t\"address1\" : \"123 Main Street\",\r\n",
       "\t\t\"address2\" : \"second floor\",\r\n",
       "\t\t\"city\" : \"Springfield\",\r\n",
       "\t\t\"state\" : \"IL\",\r\n",
       "\t\t\"zip\" : \"62757\"\r\n",
       "\t},\r\n",
       "\t\"grades\" : [\r\n",
       "\t\t{\r\n",
       "\t\t\t\"course\" : \"His101\",\r\n",
       "\t\t\t\"grade\" : \"A\"\r\n",
       "\t\t},\r\n",
       "\t\t{\r\n",
       "\t\t\t\"course\" : \"Math101\",\r\n",
       "\t\t\t\"grade\" : \"A\"\r\n",
       "\t\t},\r\n",
       "\t\t{\r\n",
       "\t\t\t\"course\" : \"Phy101\",\r\n",
       "\t\t\t\"grade\" : \"A\"\r\n",
       "\t\t}\r\n",
       "\t],\r\n",
       "\t\"scores\" : [\r\n",
       "\t\t43,\r\n",
       "\t\t44,\r\n",
       "\t\t92,\r\n",
       "\t\t83,\r\n",
       "\t\t74,\r\n",
       "\t\t65,\r\n",
       "\t\t81,\r\n",
       "\t\t73,\r\n",
       "\t\t54,\r\n",
       "\t\t75\r\n",
       "\t],\r\n",
       "\t\"books\" : [\r\n",
       "\t\t\"His343\",\r\n",
       "\t\t\"Math234\",\r\n",
       "\t\t\"Phi123\",\r\n",
       "\t\t\"Art232\",\r\n",
       "\t\t\"Mus101\"\r\n",
       "\t]\r\n",
       "}"
      ]
     },
     "execution_count": 29,
     "metadata": {},
     "output_type": "execute_result"
    }
   ],
   "source": [
    "db.students.find({\"grades.course\" : \"Math101\"}).pretty()"
   ]
  },
  {
   "cell_type": "code",
   "execution_count": null,
   "metadata": {},
   "outputs": [],
   "source": []
  }
 ],
 "metadata": {
  "kernelspec": {
   "display_name": "IMongo",
   "language": "",
   "name": "imongo"
  },
  "language_info": {
   "codemirror_mode": "shell",
   "file_extension": ".js",
   "mimetype": "text/x-mongodb",
   "name": "javascript"
  }
 },
 "nbformat": 4,
 "nbformat_minor": 2
}
